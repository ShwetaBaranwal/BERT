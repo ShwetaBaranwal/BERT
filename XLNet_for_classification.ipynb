{
  "nbformat": 4,
  "nbformat_minor": 0,
  "metadata": {
    "colab": {
      "name": "XLNet for classification.ipynb",
      "provenance": [],
      "collapsed_sections": [],
      "authorship_tag": "ABX9TyOyxCC2dY1qbNZ7xDt9Y0Ff",
      "include_colab_link": true
    },
    "kernelspec": {
      "name": "python3",
      "display_name": "Python 3"
    },
    "widgets": {
      "application/vnd.jupyter.widget-state+json": {
        "dd03ae1c4bf64390875b839393f4f444": {
          "model_module": "@jupyter-widgets/controls",
          "model_name": "HBoxModel",
          "state": {
            "_view_name": "HBoxView",
            "_dom_classes": [],
            "_model_name": "HBoxModel",
            "_view_module": "@jupyter-widgets/controls",
            "_model_module_version": "1.5.0",
            "_view_count": null,
            "_view_module_version": "1.5.0",
            "box_style": "",
            "layout": "IPY_MODEL_a4f47bd6ed6e47e9930048d3d70a43ee",
            "_model_module": "@jupyter-widgets/controls",
            "children": [
              "IPY_MODEL_6e614a9293294c328af0467dec8ffdd4",
              "IPY_MODEL_7e5b624d8fcf4bbf9cebb7c4b1f40fe6"
            ]
          }
        },
        "a4f47bd6ed6e47e9930048d3d70a43ee": {
          "model_module": "@jupyter-widgets/base",
          "model_name": "LayoutModel",
          "state": {
            "_view_name": "LayoutView",
            "grid_template_rows": null,
            "right": null,
            "justify_content": null,
            "_view_module": "@jupyter-widgets/base",
            "overflow": null,
            "_model_module_version": "1.2.0",
            "_view_count": null,
            "flex_flow": null,
            "width": null,
            "min_width": null,
            "border": null,
            "align_items": null,
            "bottom": null,
            "_model_module": "@jupyter-widgets/base",
            "top": null,
            "grid_column": null,
            "overflow_y": null,
            "overflow_x": null,
            "grid_auto_flow": null,
            "grid_area": null,
            "grid_template_columns": null,
            "flex": null,
            "_model_name": "LayoutModel",
            "justify_items": null,
            "grid_row": null,
            "max_height": null,
            "align_content": null,
            "visibility": null,
            "align_self": null,
            "height": null,
            "min_height": null,
            "padding": null,
            "grid_auto_rows": null,
            "grid_gap": null,
            "max_width": null,
            "order": null,
            "_view_module_version": "1.2.0",
            "grid_template_areas": null,
            "object_position": null,
            "object_fit": null,
            "grid_auto_columns": null,
            "margin": null,
            "display": null,
            "left": null
          }
        },
        "6e614a9293294c328af0467dec8ffdd4": {
          "model_module": "@jupyter-widgets/controls",
          "model_name": "FloatProgressModel",
          "state": {
            "_view_name": "ProgressView",
            "style": "IPY_MODEL_e2138c9e9b17441f87d730e40d6232a8",
            "_dom_classes": [],
            "description": "Downloading: 100%",
            "_model_name": "FloatProgressModel",
            "bar_style": "success",
            "max": 760,
            "_view_module": "@jupyter-widgets/controls",
            "_model_module_version": "1.5.0",
            "value": 760,
            "_view_count": null,
            "_view_module_version": "1.5.0",
            "orientation": "horizontal",
            "min": 0,
            "description_tooltip": null,
            "_model_module": "@jupyter-widgets/controls",
            "layout": "IPY_MODEL_209bb61fcc5d43d7901aa2572cc559d6"
          }
        },
        "7e5b624d8fcf4bbf9cebb7c4b1f40fe6": {
          "model_module": "@jupyter-widgets/controls",
          "model_name": "HTMLModel",
          "state": {
            "_view_name": "HTMLView",
            "style": "IPY_MODEL_83ff6e30d53e456aa5ae88cce5025dc9",
            "_dom_classes": [],
            "description": "",
            "_model_name": "HTMLModel",
            "placeholder": "​",
            "_view_module": "@jupyter-widgets/controls",
            "_model_module_version": "1.5.0",
            "value": " 760/760 [00:00&lt;00:00, 1.16kB/s]",
            "_view_count": null,
            "_view_module_version": "1.5.0",
            "description_tooltip": null,
            "_model_module": "@jupyter-widgets/controls",
            "layout": "IPY_MODEL_cc131c55c08847b09ef6e9dbf0034350"
          }
        },
        "e2138c9e9b17441f87d730e40d6232a8": {
          "model_module": "@jupyter-widgets/controls",
          "model_name": "ProgressStyleModel",
          "state": {
            "_view_name": "StyleView",
            "_model_name": "ProgressStyleModel",
            "description_width": "initial",
            "_view_module": "@jupyter-widgets/base",
            "_model_module_version": "1.5.0",
            "_view_count": null,
            "_view_module_version": "1.2.0",
            "bar_color": null,
            "_model_module": "@jupyter-widgets/controls"
          }
        },
        "209bb61fcc5d43d7901aa2572cc559d6": {
          "model_module": "@jupyter-widgets/base",
          "model_name": "LayoutModel",
          "state": {
            "_view_name": "LayoutView",
            "grid_template_rows": null,
            "right": null,
            "justify_content": null,
            "_view_module": "@jupyter-widgets/base",
            "overflow": null,
            "_model_module_version": "1.2.0",
            "_view_count": null,
            "flex_flow": null,
            "width": null,
            "min_width": null,
            "border": null,
            "align_items": null,
            "bottom": null,
            "_model_module": "@jupyter-widgets/base",
            "top": null,
            "grid_column": null,
            "overflow_y": null,
            "overflow_x": null,
            "grid_auto_flow": null,
            "grid_area": null,
            "grid_template_columns": null,
            "flex": null,
            "_model_name": "LayoutModel",
            "justify_items": null,
            "grid_row": null,
            "max_height": null,
            "align_content": null,
            "visibility": null,
            "align_self": null,
            "height": null,
            "min_height": null,
            "padding": null,
            "grid_auto_rows": null,
            "grid_gap": null,
            "max_width": null,
            "order": null,
            "_view_module_version": "1.2.0",
            "grid_template_areas": null,
            "object_position": null,
            "object_fit": null,
            "grid_auto_columns": null,
            "margin": null,
            "display": null,
            "left": null
          }
        },
        "83ff6e30d53e456aa5ae88cce5025dc9": {
          "model_module": "@jupyter-widgets/controls",
          "model_name": "DescriptionStyleModel",
          "state": {
            "_view_name": "StyleView",
            "_model_name": "DescriptionStyleModel",
            "description_width": "",
            "_view_module": "@jupyter-widgets/base",
            "_model_module_version": "1.5.0",
            "_view_count": null,
            "_view_module_version": "1.2.0",
            "_model_module": "@jupyter-widgets/controls"
          }
        },
        "cc131c55c08847b09ef6e9dbf0034350": {
          "model_module": "@jupyter-widgets/base",
          "model_name": "LayoutModel",
          "state": {
            "_view_name": "LayoutView",
            "grid_template_rows": null,
            "right": null,
            "justify_content": null,
            "_view_module": "@jupyter-widgets/base",
            "overflow": null,
            "_model_module_version": "1.2.0",
            "_view_count": null,
            "flex_flow": null,
            "width": null,
            "min_width": null,
            "border": null,
            "align_items": null,
            "bottom": null,
            "_model_module": "@jupyter-widgets/base",
            "top": null,
            "grid_column": null,
            "overflow_y": null,
            "overflow_x": null,
            "grid_auto_flow": null,
            "grid_area": null,
            "grid_template_columns": null,
            "flex": null,
            "_model_name": "LayoutModel",
            "justify_items": null,
            "grid_row": null,
            "max_height": null,
            "align_content": null,
            "visibility": null,
            "align_self": null,
            "height": null,
            "min_height": null,
            "padding": null,
            "grid_auto_rows": null,
            "grid_gap": null,
            "max_width": null,
            "order": null,
            "_view_module_version": "1.2.0",
            "grid_template_areas": null,
            "object_position": null,
            "object_fit": null,
            "grid_auto_columns": null,
            "margin": null,
            "display": null,
            "left": null
          }
        },
        "f892dad929604725b7e83ab1d141ece8": {
          "model_module": "@jupyter-widgets/controls",
          "model_name": "HBoxModel",
          "state": {
            "_view_name": "HBoxView",
            "_dom_classes": [],
            "_model_name": "HBoxModel",
            "_view_module": "@jupyter-widgets/controls",
            "_model_module_version": "1.5.0",
            "_view_count": null,
            "_view_module_version": "1.5.0",
            "box_style": "",
            "layout": "IPY_MODEL_e0b7a3ed7b5e43eaa2f5f89f7aac2426",
            "_model_module": "@jupyter-widgets/controls",
            "children": [
              "IPY_MODEL_af21298918c8408d9a87920c3dc9c7d4",
              "IPY_MODEL_6bdf6ffa7a634d4e8315fb1278ecb127"
            ]
          }
        },
        "e0b7a3ed7b5e43eaa2f5f89f7aac2426": {
          "model_module": "@jupyter-widgets/base",
          "model_name": "LayoutModel",
          "state": {
            "_view_name": "LayoutView",
            "grid_template_rows": null,
            "right": null,
            "justify_content": null,
            "_view_module": "@jupyter-widgets/base",
            "overflow": null,
            "_model_module_version": "1.2.0",
            "_view_count": null,
            "flex_flow": null,
            "width": null,
            "min_width": null,
            "border": null,
            "align_items": null,
            "bottom": null,
            "_model_module": "@jupyter-widgets/base",
            "top": null,
            "grid_column": null,
            "overflow_y": null,
            "overflow_x": null,
            "grid_auto_flow": null,
            "grid_area": null,
            "grid_template_columns": null,
            "flex": null,
            "_model_name": "LayoutModel",
            "justify_items": null,
            "grid_row": null,
            "max_height": null,
            "align_content": null,
            "visibility": null,
            "align_self": null,
            "height": null,
            "min_height": null,
            "padding": null,
            "grid_auto_rows": null,
            "grid_gap": null,
            "max_width": null,
            "order": null,
            "_view_module_version": "1.2.0",
            "grid_template_areas": null,
            "object_position": null,
            "object_fit": null,
            "grid_auto_columns": null,
            "margin": null,
            "display": null,
            "left": null
          }
        },
        "af21298918c8408d9a87920c3dc9c7d4": {
          "model_module": "@jupyter-widgets/controls",
          "model_name": "FloatProgressModel",
          "state": {
            "_view_name": "ProgressView",
            "style": "IPY_MODEL_84e3ba707674489b828780460ca80d98",
            "_dom_classes": [],
            "description": "Downloading: 100%",
            "_model_name": "FloatProgressModel",
            "bar_style": "success",
            "max": 467042463,
            "_view_module": "@jupyter-widgets/controls",
            "_model_module_version": "1.5.0",
            "value": 467042463,
            "_view_count": null,
            "_view_module_version": "1.5.0",
            "orientation": "horizontal",
            "min": 0,
            "description_tooltip": null,
            "_model_module": "@jupyter-widgets/controls",
            "layout": "IPY_MODEL_c1836a206e5d48d985cdfa6ba19f964c"
          }
        },
        "6bdf6ffa7a634d4e8315fb1278ecb127": {
          "model_module": "@jupyter-widgets/controls",
          "model_name": "HTMLModel",
          "state": {
            "_view_name": "HTMLView",
            "style": "IPY_MODEL_b642df81354e443e90acf6183beaaae0",
            "_dom_classes": [],
            "description": "",
            "_model_name": "HTMLModel",
            "placeholder": "​",
            "_view_module": "@jupyter-widgets/controls",
            "_model_module_version": "1.5.0",
            "value": " 467M/467M [01:06&lt;00:00, 7.00MB/s]",
            "_view_count": null,
            "_view_module_version": "1.5.0",
            "description_tooltip": null,
            "_model_module": "@jupyter-widgets/controls",
            "layout": "IPY_MODEL_3179fb9d90f44b998b6daf5d1432f025"
          }
        },
        "84e3ba707674489b828780460ca80d98": {
          "model_module": "@jupyter-widgets/controls",
          "model_name": "ProgressStyleModel",
          "state": {
            "_view_name": "StyleView",
            "_model_name": "ProgressStyleModel",
            "description_width": "initial",
            "_view_module": "@jupyter-widgets/base",
            "_model_module_version": "1.5.0",
            "_view_count": null,
            "_view_module_version": "1.2.0",
            "bar_color": null,
            "_model_module": "@jupyter-widgets/controls"
          }
        },
        "c1836a206e5d48d985cdfa6ba19f964c": {
          "model_module": "@jupyter-widgets/base",
          "model_name": "LayoutModel",
          "state": {
            "_view_name": "LayoutView",
            "grid_template_rows": null,
            "right": null,
            "justify_content": null,
            "_view_module": "@jupyter-widgets/base",
            "overflow": null,
            "_model_module_version": "1.2.0",
            "_view_count": null,
            "flex_flow": null,
            "width": null,
            "min_width": null,
            "border": null,
            "align_items": null,
            "bottom": null,
            "_model_module": "@jupyter-widgets/base",
            "top": null,
            "grid_column": null,
            "overflow_y": null,
            "overflow_x": null,
            "grid_auto_flow": null,
            "grid_area": null,
            "grid_template_columns": null,
            "flex": null,
            "_model_name": "LayoutModel",
            "justify_items": null,
            "grid_row": null,
            "max_height": null,
            "align_content": null,
            "visibility": null,
            "align_self": null,
            "height": null,
            "min_height": null,
            "padding": null,
            "grid_auto_rows": null,
            "grid_gap": null,
            "max_width": null,
            "order": null,
            "_view_module_version": "1.2.0",
            "grid_template_areas": null,
            "object_position": null,
            "object_fit": null,
            "grid_auto_columns": null,
            "margin": null,
            "display": null,
            "left": null
          }
        },
        "b642df81354e443e90acf6183beaaae0": {
          "model_module": "@jupyter-widgets/controls",
          "model_name": "DescriptionStyleModel",
          "state": {
            "_view_name": "StyleView",
            "_model_name": "DescriptionStyleModel",
            "description_width": "",
            "_view_module": "@jupyter-widgets/base",
            "_model_module_version": "1.5.0",
            "_view_count": null,
            "_view_module_version": "1.2.0",
            "_model_module": "@jupyter-widgets/controls"
          }
        },
        "3179fb9d90f44b998b6daf5d1432f025": {
          "model_module": "@jupyter-widgets/base",
          "model_name": "LayoutModel",
          "state": {
            "_view_name": "LayoutView",
            "grid_template_rows": null,
            "right": null,
            "justify_content": null,
            "_view_module": "@jupyter-widgets/base",
            "overflow": null,
            "_model_module_version": "1.2.0",
            "_view_count": null,
            "flex_flow": null,
            "width": null,
            "min_width": null,
            "border": null,
            "align_items": null,
            "bottom": null,
            "_model_module": "@jupyter-widgets/base",
            "top": null,
            "grid_column": null,
            "overflow_y": null,
            "overflow_x": null,
            "grid_auto_flow": null,
            "grid_area": null,
            "grid_template_columns": null,
            "flex": null,
            "_model_name": "LayoutModel",
            "justify_items": null,
            "grid_row": null,
            "max_height": null,
            "align_content": null,
            "visibility": null,
            "align_self": null,
            "height": null,
            "min_height": null,
            "padding": null,
            "grid_auto_rows": null,
            "grid_gap": null,
            "max_width": null,
            "order": null,
            "_view_module_version": "1.2.0",
            "grid_template_areas": null,
            "object_position": null,
            "object_fit": null,
            "grid_auto_columns": null,
            "margin": null,
            "display": null,
            "left": null
          }
        },
        "592174fe72f1448f847c9992c234602f": {
          "model_module": "@jupyter-widgets/controls",
          "model_name": "HBoxModel",
          "state": {
            "_view_name": "HBoxView",
            "_dom_classes": [],
            "_model_name": "HBoxModel",
            "_view_module": "@jupyter-widgets/controls",
            "_model_module_version": "1.5.0",
            "_view_count": null,
            "_view_module_version": "1.5.0",
            "box_style": "",
            "layout": "IPY_MODEL_d66b5938a8674fb8b2b581eff2ff6132",
            "_model_module": "@jupyter-widgets/controls",
            "children": [
              "IPY_MODEL_0ca0e1e7890448899504d8c9ef9df58d",
              "IPY_MODEL_9fe6d5583c0a43c9946629762fb6a1e1"
            ]
          }
        },
        "d66b5938a8674fb8b2b581eff2ff6132": {
          "model_module": "@jupyter-widgets/base",
          "model_name": "LayoutModel",
          "state": {
            "_view_name": "LayoutView",
            "grid_template_rows": null,
            "right": null,
            "justify_content": null,
            "_view_module": "@jupyter-widgets/base",
            "overflow": null,
            "_model_module_version": "1.2.0",
            "_view_count": null,
            "flex_flow": null,
            "width": null,
            "min_width": null,
            "border": null,
            "align_items": null,
            "bottom": null,
            "_model_module": "@jupyter-widgets/base",
            "top": null,
            "grid_column": null,
            "overflow_y": null,
            "overflow_x": null,
            "grid_auto_flow": null,
            "grid_area": null,
            "grid_template_columns": null,
            "flex": null,
            "_model_name": "LayoutModel",
            "justify_items": null,
            "grid_row": null,
            "max_height": null,
            "align_content": null,
            "visibility": null,
            "align_self": null,
            "height": null,
            "min_height": null,
            "padding": null,
            "grid_auto_rows": null,
            "grid_gap": null,
            "max_width": null,
            "order": null,
            "_view_module_version": "1.2.0",
            "grid_template_areas": null,
            "object_position": null,
            "object_fit": null,
            "grid_auto_columns": null,
            "margin": null,
            "display": null,
            "left": null
          }
        },
        "0ca0e1e7890448899504d8c9ef9df58d": {
          "model_module": "@jupyter-widgets/controls",
          "model_name": "FloatProgressModel",
          "state": {
            "_view_name": "ProgressView",
            "style": "IPY_MODEL_95fad05077e44f94a91bb0b9b9d52867",
            "_dom_classes": [],
            "description": "Iteration: 100%",
            "_model_name": "FloatProgressModel",
            "bar_style": "success",
            "max": 1563,
            "_view_module": "@jupyter-widgets/controls",
            "_model_module_version": "1.5.0",
            "value": 1563,
            "_view_count": null,
            "_view_module_version": "1.5.0",
            "orientation": "horizontal",
            "min": 0,
            "description_tooltip": null,
            "_model_module": "@jupyter-widgets/controls",
            "layout": "IPY_MODEL_f75897f707324ea0b8dd000cbccb5027"
          }
        },
        "9fe6d5583c0a43c9946629762fb6a1e1": {
          "model_module": "@jupyter-widgets/controls",
          "model_name": "HTMLModel",
          "state": {
            "_view_name": "HTMLView",
            "style": "IPY_MODEL_a8752e1e2c1b4615a08be99540f18b6c",
            "_dom_classes": [],
            "description": "",
            "_model_name": "HTMLModel",
            "placeholder": "​",
            "_view_module": "@jupyter-widgets/controls",
            "_model_module_version": "1.5.0",
            "value": " 1563/1563 [49:02&lt;00:00,  1.88s/it]",
            "_view_count": null,
            "_view_module_version": "1.5.0",
            "description_tooltip": null,
            "_model_module": "@jupyter-widgets/controls",
            "layout": "IPY_MODEL_527d91f95489455da32277b399bc7313"
          }
        },
        "95fad05077e44f94a91bb0b9b9d52867": {
          "model_module": "@jupyter-widgets/controls",
          "model_name": "ProgressStyleModel",
          "state": {
            "_view_name": "StyleView",
            "_model_name": "ProgressStyleModel",
            "description_width": "initial",
            "_view_module": "@jupyter-widgets/base",
            "_model_module_version": "1.5.0",
            "_view_count": null,
            "_view_module_version": "1.2.0",
            "bar_color": null,
            "_model_module": "@jupyter-widgets/controls"
          }
        },
        "f75897f707324ea0b8dd000cbccb5027": {
          "model_module": "@jupyter-widgets/base",
          "model_name": "LayoutModel",
          "state": {
            "_view_name": "LayoutView",
            "grid_template_rows": null,
            "right": null,
            "justify_content": null,
            "_view_module": "@jupyter-widgets/base",
            "overflow": null,
            "_model_module_version": "1.2.0",
            "_view_count": null,
            "flex_flow": null,
            "width": null,
            "min_width": null,
            "border": null,
            "align_items": null,
            "bottom": null,
            "_model_module": "@jupyter-widgets/base",
            "top": null,
            "grid_column": null,
            "overflow_y": null,
            "overflow_x": null,
            "grid_auto_flow": null,
            "grid_area": null,
            "grid_template_columns": null,
            "flex": null,
            "_model_name": "LayoutModel",
            "justify_items": null,
            "grid_row": null,
            "max_height": null,
            "align_content": null,
            "visibility": null,
            "align_self": null,
            "height": null,
            "min_height": null,
            "padding": null,
            "grid_auto_rows": null,
            "grid_gap": null,
            "max_width": null,
            "order": null,
            "_view_module_version": "1.2.0",
            "grid_template_areas": null,
            "object_position": null,
            "object_fit": null,
            "grid_auto_columns": null,
            "margin": null,
            "display": null,
            "left": null
          }
        },
        "a8752e1e2c1b4615a08be99540f18b6c": {
          "model_module": "@jupyter-widgets/controls",
          "model_name": "DescriptionStyleModel",
          "state": {
            "_view_name": "StyleView",
            "_model_name": "DescriptionStyleModel",
            "description_width": "",
            "_view_module": "@jupyter-widgets/base",
            "_model_module_version": "1.5.0",
            "_view_count": null,
            "_view_module_version": "1.2.0",
            "_model_module": "@jupyter-widgets/controls"
          }
        },
        "527d91f95489455da32277b399bc7313": {
          "model_module": "@jupyter-widgets/base",
          "model_name": "LayoutModel",
          "state": {
            "_view_name": "LayoutView",
            "grid_template_rows": null,
            "right": null,
            "justify_content": null,
            "_view_module": "@jupyter-widgets/base",
            "overflow": null,
            "_model_module_version": "1.2.0",
            "_view_count": null,
            "flex_flow": null,
            "width": null,
            "min_width": null,
            "border": null,
            "align_items": null,
            "bottom": null,
            "_model_module": "@jupyter-widgets/base",
            "top": null,
            "grid_column": null,
            "overflow_y": null,
            "overflow_x": null,
            "grid_auto_flow": null,
            "grid_area": null,
            "grid_template_columns": null,
            "flex": null,
            "_model_name": "LayoutModel",
            "justify_items": null,
            "grid_row": null,
            "max_height": null,
            "align_content": null,
            "visibility": null,
            "align_self": null,
            "height": null,
            "min_height": null,
            "padding": null,
            "grid_auto_rows": null,
            "grid_gap": null,
            "max_width": null,
            "order": null,
            "_view_module_version": "1.2.0",
            "grid_template_areas": null,
            "object_position": null,
            "object_fit": null,
            "grid_auto_columns": null,
            "margin": null,
            "display": null,
            "left": null
          }
        }
      }
    },
    "accelerator": "GPU"
  },
  "cells": [
    {
      "cell_type": "markdown",
      "metadata": {
        "id": "view-in-github",
        "colab_type": "text"
      },
      "source": [
        "<a href=\"https://colab.research.google.com/github/ShwetaBaranwal/BERT-for-Classification/blob/master/XLNet_for_classification.ipynb\" target=\"_parent\"><img src=\"https://colab.research.google.com/assets/colab-badge.svg\" alt=\"Open In Colab\"/></a>"
      ]
    },
    {
      "cell_type": "code",
      "metadata": {
        "id": "i3ndXl5a6oOT",
        "colab_type": "code",
        "outputId": "694bfa41-cdbb-43ab-d680-622bc9b37540",
        "colab": {
          "base_uri": "https://localhost:8080/",
          "height": 590
        }
      },
      "source": [
        "!pip install transformers"
      ],
      "execution_count": 0,
      "outputs": [
        {
          "output_type": "stream",
          "text": [
            "Collecting transformers\n",
            "\u001b[?25l  Downloading https://files.pythonhosted.org/packages/22/97/7db72a0beef1825f82188a4b923e62a146271ac2ced7928baa4d47ef2467/transformers-2.9.1-py3-none-any.whl (641kB)\n",
            "\u001b[K     |████████████████████████████████| 645kB 6.7MB/s \n",
            "\u001b[?25hCollecting sacremoses\n",
            "\u001b[?25l  Downloading https://files.pythonhosted.org/packages/7d/34/09d19aff26edcc8eb2a01bed8e98f13a1537005d31e95233fd48216eed10/sacremoses-0.0.43.tar.gz (883kB)\n",
            "\u001b[K     |████████████████████████████████| 890kB 43.4MB/s \n",
            "\u001b[?25hRequirement already satisfied: filelock in /usr/local/lib/python3.6/dist-packages (from transformers) (3.0.12)\n",
            "Collecting sentencepiece\n",
            "\u001b[?25l  Downloading https://files.pythonhosted.org/packages/3b/88/49e772d686088e1278766ad68a463513642a2a877487decbd691dec02955/sentencepiece-0.1.90-cp36-cp36m-manylinux1_x86_64.whl (1.1MB)\n",
            "\u001b[K     |████████████████████████████████| 1.1MB 23.9MB/s \n",
            "\u001b[?25hRequirement already satisfied: requests in /usr/local/lib/python3.6/dist-packages (from transformers) (2.23.0)\n",
            "Requirement already satisfied: regex!=2019.12.17 in /usr/local/lib/python3.6/dist-packages (from transformers) (2019.12.20)\n",
            "Requirement already satisfied: dataclasses; python_version < \"3.7\" in /usr/local/lib/python3.6/dist-packages (from transformers) (0.7)\n",
            "Requirement already satisfied: numpy in /usr/local/lib/python3.6/dist-packages (from transformers) (1.18.4)\n",
            "Collecting tokenizers==0.7.0\n",
            "\u001b[?25l  Downloading https://files.pythonhosted.org/packages/14/e5/a26eb4716523808bb0a799fcfdceb6ebf77a18169d9591b2f46a9adb87d9/tokenizers-0.7.0-cp36-cp36m-manylinux1_x86_64.whl (3.8MB)\n",
            "\u001b[K     |████████████████████████████████| 3.8MB 41.9MB/s \n",
            "\u001b[?25hRequirement already satisfied: tqdm>=4.27 in /usr/local/lib/python3.6/dist-packages (from transformers) (4.41.1)\n",
            "Requirement already satisfied: six in /usr/local/lib/python3.6/dist-packages (from sacremoses->transformers) (1.12.0)\n",
            "Requirement already satisfied: click in /usr/local/lib/python3.6/dist-packages (from sacremoses->transformers) (7.1.2)\n",
            "Requirement already satisfied: joblib in /usr/local/lib/python3.6/dist-packages (from sacremoses->transformers) (0.15.0)\n",
            "Requirement already satisfied: idna<3,>=2.5 in /usr/local/lib/python3.6/dist-packages (from requests->transformers) (2.9)\n",
            "Requirement already satisfied: chardet<4,>=3.0.2 in /usr/local/lib/python3.6/dist-packages (from requests->transformers) (3.0.4)\n",
            "Requirement already satisfied: urllib3!=1.25.0,!=1.25.1,<1.26,>=1.21.1 in /usr/local/lib/python3.6/dist-packages (from requests->transformers) (1.24.3)\n",
            "Requirement already satisfied: certifi>=2017.4.17 in /usr/local/lib/python3.6/dist-packages (from requests->transformers) (2020.4.5.1)\n",
            "Building wheels for collected packages: sacremoses\n",
            "  Building wheel for sacremoses (setup.py) ... \u001b[?25l\u001b[?25hdone\n",
            "  Created wheel for sacremoses: filename=sacremoses-0.0.43-cp36-none-any.whl size=893260 sha256=ed5ab066d6490d22607e0b361bcd8d7533dd35d63720caf34d8a6f1f832b4909\n",
            "  Stored in directory: /root/.cache/pip/wheels/29/3c/fd/7ce5c3f0666dab31a50123635e6fb5e19ceb42ce38d4e58f45\n",
            "Successfully built sacremoses\n",
            "Installing collected packages: sacremoses, sentencepiece, tokenizers, transformers\n",
            "Successfully installed sacremoses-0.0.43 sentencepiece-0.1.90 tokenizers-0.7.0 transformers-2.9.1\n"
          ],
          "name": "stdout"
        }
      ]
    },
    {
      "cell_type": "code",
      "metadata": {
        "id": "5nA-zbPg-Mzh",
        "colab_type": "code",
        "colab": {}
      },
      "source": [
        "from torch import nn\n",
        "import torch\n",
        "from torch.utils.data import Dataset, DataLoader\n",
        "import transformers\n",
        "from transformers import glue_compute_metrics as compute_metrics\n",
        "from transformers.optimization import AdamW\n",
        "import pandas as pd\n",
        "import numpy as np\n",
        "from tqdm import trange, tqdm_notebook\n",
        "from sklearn.metrics import confusion_matrix"
      ],
      "execution_count": 0,
      "outputs": []
    },
    {
      "cell_type": "code",
      "metadata": {
        "id": "G6JlzQkNNxiW",
        "colab_type": "code",
        "colab": {}
      },
      "source": [
        "#tokenizer\n",
        "tokenizer = transformers.XLNetTokenizer.from_pretrained('xlnet-base-cased')\n",
        "sent = 'This is my dog. His name is Jack.'\n",
        "sent2 = 'He loves playing.'\n",
        "inputs = tokenizer.encode_plus(text = sent, text_pair = sent2, add_special_tokens=True, max_length= 20)"
      ],
      "execution_count": 0,
      "outputs": []
    },
    {
      "cell_type": "code",
      "metadata": {
        "id": "7_GiNM_tN-RG",
        "colab_type": "code",
        "outputId": "7fa95a6f-a75d-4625-fb61-19960d67d461",
        "colab": {
          "base_uri": "https://localhost:8080/",
          "height": 55
        }
      },
      "source": [
        "inputs"
      ],
      "execution_count": 0,
      "outputs": [
        {
          "output_type": "execute_result",
          "data": {
            "text/plain": [
              "{'input_ids': [122, 27, 94, 2288, 9, 329, 304, 27, 2187, 9, 4, 69, 9465, 945, 9, 4, 3], 'token_type_ids': [0, 0, 0, 0, 0, 0, 0, 0, 0, 0, 0, 1, 1, 1, 1, 1, 2], 'attention_mask': [1, 1, 1, 1, 1, 1, 1, 1, 1, 1, 1, 1, 1, 1, 1, 1, 1]}"
            ]
          },
          "metadata": {
            "tags": []
          },
          "execution_count": 27
        }
      ]
    },
    {
      "cell_type": "code",
      "metadata": {
        "id": "APAimaeGOFhD",
        "colab_type": "code",
        "outputId": "585602f0-5b79-4e00-957a-64f5673bd45b",
        "colab": {
          "base_uri": "https://localhost:8080/",
          "height": 35
        }
      },
      "source": [
        "tokenizer.decode(inputs.input_ids)"
      ],
      "execution_count": 0,
      "outputs": [
        {
          "output_type": "execute_result",
          "data": {
            "text/plain": [
              "'This is my dog. His name is Jack.<sep> He loves playing.<sep><cls>'"
            ]
          },
          "metadata": {
            "tags": []
          },
          "execution_count": 28
        }
      ]
    },
    {
      "cell_type": "code",
      "metadata": {
        "id": "pi5jVJ4pJ9JI",
        "colab_type": "code",
        "colab": {}
      },
      "source": [
        "class XLNETBASECLASSIFIER(nn.Module):\n",
        "  def __init__(self, xlnet_type, num_labels):\n",
        "    super(XLNETBASECLASSIFIER, self).__init__()\n",
        "    self.xlnet_type = xlnet_type\n",
        "    self.num_labels = num_labels\n",
        "    self.xlnet = transformers.XLNetForSequenceClassification.from_pretrained(\n",
        "                      self.xlnet_type, \n",
        "                      num_labels=self.num_labels)\n",
        "\n",
        "  def forward(self, ids, mask_ids, token_ids, label):\n",
        "    _, logits = self.xlnet(\n",
        "                      input_ids = ids, \n",
        "                      attention_mask = mask_ids, \n",
        "                      token_type_ids = token_ids,\n",
        "                      labels = label)\n",
        "    return logits"
      ],
      "execution_count": 0,
      "outputs": []
    },
    {
      "cell_type": "code",
      "metadata": {
        "id": "2JpqM52DLYaI",
        "colab_type": "code",
        "colab": {}
      },
      "source": [
        "class XLNetDatasetModule(Dataset):\n",
        "  def __init__(self, tokenizer, input_sent, max_length, target):\n",
        "    self.input_seq = input_sent\n",
        "    self.tokenizer = tokenizer\n",
        "    self.max_length = max_length\n",
        "    self.target = target \n",
        "  \n",
        "  def __len__(self):\n",
        "        return len(self.input_seq)\n",
        "  \n",
        "  def __getitem__(self, idx):\n",
        "    input_ = self.input_seq[idx]\n",
        "    inputs = self.tokenizer.encode_plus(text = input_, add_special_tokens=True, max_length= self.max_length)\n",
        "    ids = inputs['input_ids']\n",
        "    mask_ids = inputs['attention_mask']\n",
        "    token_ids = inputs['token_type_ids']\n",
        "\n",
        "    padding_len = self.max_length - len(ids)\n",
        "    ids = ids + ([0]*padding_len)\n",
        "    mask_ids = mask_ids + ([0]*padding_len)\n",
        "    token_ids = token_ids  + ([0]*padding_len)\n",
        " \n",
        "    return {'ids': torch.tensor(ids, dtype = torch.long),\n",
        "            'mask': torch.tensor(mask_ids, dtype = torch.long),\n",
        "            'token_type_ids': torch.tensor(token_ids, dtype = torch.long),\n",
        "            'target':  torch.tensor(self.target[idx], dtype = torch.int16)}"
      ],
      "execution_count": 0,
      "outputs": []
    },
    {
      "cell_type": "code",
      "metadata": {
        "id": "osSWXtekLizt",
        "colab_type": "code",
        "colab": {}
      },
      "source": [
        "def loss_func(outputs, targets):\n",
        "  return nn.CrossEntropyLoss()(outputs, targets)"
      ],
      "execution_count": 0,
      "outputs": []
    },
    {
      "cell_type": "code",
      "metadata": {
        "id": "PQwg3Ew6LlAT",
        "colab_type": "code",
        "colab": {}
      },
      "source": [
        "def train_loop(dataloader, model, optimizer, device, max_grad_norm, scheduler=None):\n",
        "  model.train()\n",
        "  for bi, d in enumerate(tqdm_notebook(dataloader, desc=\"Iteration\")):\n",
        "    ids = d['ids']\n",
        "    mask_ids = d['mask']\n",
        "    token_ids = d['token_type_ids']\n",
        "    target = d['target']\n",
        "\n",
        "    ids = ids.to(device, dtype = torch.long)\n",
        "    mask_ids = mask_ids.to(device, dtype = torch.long)\n",
        "    token_ids = token_ids.to(device, dtype = torch.long)\n",
        "    target = target.to(device, dtype = torch.long)\n",
        "\n",
        "    optimizer.zero_grad()\n",
        "    output = model(ids, mask_ids, token_ids, target)\n",
        "    loss = loss_func(output, target)\n",
        "    # torch.nn.utils.clip_grad_norm_(model.parameters(), max_grad_norm)\n",
        "    loss.backward()\n",
        "    optimizer.step()\n",
        "    if scheduler is not None:\n",
        "      scheduler.step()\n",
        "    if bi%100==0:\n",
        "      print (f\"bi: {bi}, loss: {loss}\")\n"
      ],
      "execution_count": 0,
      "outputs": []
    },
    {
      "cell_type": "code",
      "metadata": {
        "id": "d7SYa5fvLwTS",
        "colab_type": "code",
        "colab": {}
      },
      "source": [
        "def eval_loop(dataloader, model, device):\n",
        "  model.eval()\n",
        "  preds = None\n",
        "  out_label_ids = None\n",
        "  eval_loss = 0.0\n",
        "  eval_steps = 0\n",
        "\n",
        "  for bi, d in enumerate(dataloader):\n",
        "    ids = d['ids']\n",
        "    mask_ids = d['mask']\n",
        "    token_ids = d['token_type_ids']\n",
        "    target = d['target']\n",
        "\n",
        "    ids = ids.to(device, dtype = torch.long)\n",
        "    mask_ids = mask_ids.to(device, dtype = torch.long)\n",
        "    token_ids = token_ids.to(device, dtype = torch.long)\n",
        "    target = target.to(device, dtype = torch.long)\n",
        "    with torch.no_grad():\n",
        "      output = model(ids, mask_ids, token_ids, target)\n",
        "      loss = loss_func(output, target)\n",
        "      eval_loss += loss.mean().item()\n",
        "    \n",
        "    eval_steps += 1\n",
        "    if preds is None:\n",
        "      preds = output.detach().cpu().numpy()\n",
        "      out_label_ids = target.detach().cpu().numpy()\n",
        "    else:\n",
        "      preds = np.append(preds, output.detach().cpu().numpy(), axis=0)\n",
        "      out_label_ids = np.append(out_label_ids, target.detach().cpu().numpy(), axis=0)\n",
        "\n",
        "  eval_loss = eval_loss/eval_steps\n",
        "  preds = np.argmax(preds, axis=1)\n",
        "  \n",
        "  conf_matrix = confusion_matrix(out_label_ids, preds)\n",
        "  print(\"Confusion Matrix:\")\n",
        "  print(conf_matrix)\n",
        "\n",
        "  tn, fp, fn, tp = conf_matrix.ravel()\n",
        "  print(f'tn:{tn}, fp:{fp}, fn:{fn}, tp:{tp}')\n",
        "\n",
        "  return eval_loss\n",
        "    "
      ],
      "execution_count": 0,
      "outputs": []
    },
    {
      "cell_type": "code",
      "metadata": {
        "id": "yDKlsvtUL2Hi",
        "colab_type": "code",
        "colab": {}
      },
      "source": [
        "def dataset_details(df):\n",
        "  print(\"Dataset preview\")\n",
        "  print(df.head(5))\n",
        "  print(\"label count:\")\n",
        "  print(df.groupby([0]).count())"
      ],
      "execution_count": 0,
      "outputs": []
    },
    {
      "cell_type": "code",
      "metadata": {
        "id": "WH5K3D-KL5KK",
        "colab_type": "code",
        "colab": {}
      },
      "source": [
        "def run():\n",
        "  MAX_SEQ_LENGTH = 128\n",
        "  TRAIN_BATCH_SIZE = 32\n",
        "  EVAL_BATCH_SIZE = 32\n",
        "  LEARNING_RATE = 1e-5\n",
        "  NUM_TRAIN_EPOCHS = 1\n",
        "  NUM_LABELS = 2\n",
        "  XLNET_TYPE = \"xlnet-base-cased\"\n",
        "  max_grad_norm = 1.0\n",
        "\n",
        "  train_df = pd.read_csv('train.csv', header=None)\n",
        "  test_df = pd.read_csv('test.csv', header=None)\n",
        "  train_df[0] = (train_df[0] == 2).astype(int)\n",
        "  test_df[0] = (test_df[0] == 2).astype(int)\n",
        "\n",
        "  dataset_details(train_df)\n",
        "  dataset_details(test_df)\n",
        "\n",
        "  tokenizer = transformers.XLNetTokenizer.from_pretrained(XLNET_TYPE)\n",
        "  train_dataset = XLNetDatasetModule(\n",
        "      tokenizer = tokenizer,\n",
        "      input_sent = train_df[1],\n",
        "      max_length = MAX_SEQ_LENGTH,\n",
        "      target = train_df[0]\n",
        "  )\n",
        "\n",
        "  train_dataloader = DataLoader(train_dataset, batch_size = TRAIN_BATCH_SIZE, shuffle=True)\n",
        "\n",
        "  eval_dataset = XLNetDatasetModule(\n",
        "      tokenizer = tokenizer,\n",
        "      input_sent = test_df[1],\n",
        "      max_length = MAX_SEQ_LENGTH,\n",
        "      target = test_df[0]\n",
        "  ) \n",
        "\n",
        "  eval_dataloader = DataLoader(eval_dataset, batch_size = EVAL_BATCH_SIZE, shuffle=False)\n",
        "\n",
        "  device = torch.device(\"cuda\" if torch.cuda.is_available() else \"cpu\")\n",
        "\n",
        "  model = XLNETBASECLASSIFIER(XLNET_TYPE, NUM_LABELS).to(device)\n",
        "\n",
        "  optimizer = AdamW(model.parameters(), lr=LEARNING_RATE, correct_bias=False)\n",
        "\n",
        "  NUM_TRAIN_STEPS = int(len(train_dataset)/TRAIN_BATCH_SIZE * NUM_TRAIN_EPOCHS) \n",
        "  scheduler = transformers.get_constant_schedule_with_warmup(\n",
        "                  optimizer, \n",
        "                  num_warmup_steps=100,\n",
        "                  # num_training_steps=NUM_TRAIN_STEPS,\n",
        "                  last_epoch=-1)\n",
        "  \n",
        "  for epoch in trange(NUM_TRAIN_EPOCHS):\n",
        "    train_loop(train_dataloader, model, optimizer, device, max_grad_norm, scheduler)\n",
        "  \n",
        "  res = eval_loop(eval_dataloader, model, device)\n",
        "  print(res)\n",
        "  \n"
      ],
      "execution_count": 0,
      "outputs": []
    },
    {
      "cell_type": "code",
      "metadata": {
        "id": "W5iPWI8WMn9x",
        "colab_type": "code",
        "outputId": "05ec16cb-667d-47fe-b2da-8b0b9af882e8",
        "colab": {
          "base_uri": "https://localhost:8080/",
          "height": 1000,
          "referenced_widgets": [
            "dd03ae1c4bf64390875b839393f4f444",
            "a4f47bd6ed6e47e9930048d3d70a43ee",
            "6e614a9293294c328af0467dec8ffdd4",
            "7e5b624d8fcf4bbf9cebb7c4b1f40fe6",
            "e2138c9e9b17441f87d730e40d6232a8",
            "209bb61fcc5d43d7901aa2572cc559d6",
            "83ff6e30d53e456aa5ae88cce5025dc9",
            "cc131c55c08847b09ef6e9dbf0034350",
            "f892dad929604725b7e83ab1d141ece8",
            "e0b7a3ed7b5e43eaa2f5f89f7aac2426",
            "af21298918c8408d9a87920c3dc9c7d4",
            "6bdf6ffa7a634d4e8315fb1278ecb127",
            "84e3ba707674489b828780460ca80d98",
            "c1836a206e5d48d985cdfa6ba19f964c",
            "b642df81354e443e90acf6183beaaae0",
            "3179fb9d90f44b998b6daf5d1432f025",
            "592174fe72f1448f847c9992c234602f",
            "d66b5938a8674fb8b2b581eff2ff6132",
            "0ca0e1e7890448899504d8c9ef9df58d",
            "9fe6d5583c0a43c9946629762fb6a1e1",
            "95fad05077e44f94a91bb0b9b9d52867",
            "f75897f707324ea0b8dd000cbccb5027",
            "a8752e1e2c1b4615a08be99540f18b6c",
            "527d91f95489455da32277b399bc7313"
          ]
        }
      },
      "source": [
        "if __name__ == '__main__':\n",
        "  run()"
      ],
      "execution_count": 0,
      "outputs": [
        {
          "output_type": "stream",
          "text": [
            "Dataset preview\n",
            "   0                                                  1\n",
            "0  0  Unfortunately, the frustration of being Dr. Go...\n",
            "1  1  Been going to Dr. Goldberg for over 10 years. ...\n",
            "2  0  I don't know what Dr. Goldberg was like before...\n",
            "3  0  I'm writing this review to give you a heads up...\n",
            "4  1  All the food is great here. But the best thing...\n",
            "label count:\n",
            "       1\n",
            "0       \n",
            "0  26832\n",
            "1  23169\n",
            "Dataset preview\n",
            "   0                                                  1\n",
            "0  1  Contrary to other reviews, I have zero complai...\n",
            "1  0  Last summer I had an appointment to get new ti...\n",
            "2  1  Friendly staff, same starbucks fair you get an...\n",
            "3  0  The food is good. Unfortunately the service is...\n",
            "4  1  Even when we didn't have a car Filene's Baseme...\n",
            "label count:\n",
            "       1\n",
            "0       \n",
            "0  19000\n",
            "1  19000\n"
          ],
          "name": "stdout"
        },
        {
          "output_type": "display_data",
          "data": {
            "application/vnd.jupyter.widget-view+json": {
              "model_id": "dd03ae1c4bf64390875b839393f4f444",
              "version_minor": 0,
              "version_major": 2
            },
            "text/plain": [
              "HBox(children=(FloatProgress(value=0.0, description='Downloading', max=760.0, style=ProgressStyle(description_…"
            ]
          },
          "metadata": {
            "tags": []
          }
        },
        {
          "output_type": "stream",
          "text": [
            "\n"
          ],
          "name": "stdout"
        },
        {
          "output_type": "display_data",
          "data": {
            "application/vnd.jupyter.widget-view+json": {
              "model_id": "f892dad929604725b7e83ab1d141ece8",
              "version_minor": 0,
              "version_major": 2
            },
            "text/plain": [
              "HBox(children=(FloatProgress(value=0.0, description='Downloading', max=467042463.0, style=ProgressStyle(descri…"
            ]
          },
          "metadata": {
            "tags": []
          }
        },
        {
          "output_type": "stream",
          "text": [
            "\n"
          ],
          "name": "stdout"
        },
        {
          "output_type": "stream",
          "text": [
            "\r  0%|          | 0/1 [00:00<?, ?it/s]/usr/local/lib/python3.6/dist-packages/ipykernel_launcher.py:3: TqdmDeprecationWarning: This function will be removed in tqdm==5.0.0\n",
            "Please use `tqdm.notebook.tqdm` instead of `tqdm.tqdm_notebook`\n",
            "  This is separate from the ipykernel package so we can avoid doing imports until\n"
          ],
          "name": "stderr"
        },
        {
          "output_type": "display_data",
          "data": {
            "application/vnd.jupyter.widget-view+json": {
              "model_id": "592174fe72f1448f847c9992c234602f",
              "version_minor": 0,
              "version_major": 2
            },
            "text/plain": [
              "HBox(children=(FloatProgress(value=0.0, description='Iteration', max=1563.0, style=ProgressStyle(description_w…"
            ]
          },
          "metadata": {
            "tags": []
          }
        },
        {
          "output_type": "stream",
          "text": [
            "/pytorch/torch/csrc/utils/python_arg_parser.cpp:756: UserWarning: This overload of add_ is deprecated:\n",
            "\tadd_(Number alpha, Tensor other)\n",
            "Consider using one of the following signatures instead:\n",
            "\tadd_(Tensor other, *, Number alpha)\n"
          ],
          "name": "stderr"
        },
        {
          "output_type": "stream",
          "text": [
            "bi: 0, loss: 0.6796261072158813\n",
            "bi: 100, loss: 0.2555306553840637\n",
            "bi: 200, loss: 0.21070092916488647\n",
            "bi: 300, loss: 0.3804832696914673\n",
            "bi: 400, loss: 0.015034101903438568\n",
            "bi: 500, loss: 0.25997301936149597\n",
            "bi: 600, loss: 0.09383919090032578\n",
            "bi: 700, loss: 0.2007942497730255\n",
            "bi: 800, loss: 0.19002646207809448\n",
            "bi: 900, loss: 0.129128098487854\n",
            "bi: 1000, loss: 0.2381821870803833\n",
            "bi: 1100, loss: 0.08555006980895996\n",
            "bi: 1200, loss: 0.058050736784935\n",
            "bi: 1300, loss: 0.2508467435836792\n",
            "bi: 1400, loss: 0.1753806620836258\n",
            "bi: 1500, loss: 0.06408591568470001\n"
          ],
          "name": "stdout"
        },
        {
          "output_type": "stream",
          "text": [
            "100%|██████████| 1/1 [49:02<00:00, 2942.73s/it]"
          ],
          "name": "stderr"
        },
        {
          "output_type": "stream",
          "text": [
            "\n"
          ],
          "name": "stdout"
        },
        {
          "output_type": "stream",
          "text": [
            "\n"
          ],
          "name": "stderr"
        },
        {
          "output_type": "stream",
          "text": [
            "Confusion Matrix:\n",
            "[[18107   893]\n",
            " [ 1048 17952]]\n",
            "tn:18107, fp:893, fn:1048, tp:17952\n",
            "0.13184613703126055\n"
          ],
          "name": "stdout"
        }
      ]
    },
    {
      "cell_type": "code",
      "metadata": {
        "id": "E88xRwCrMqif",
        "colab_type": "code",
        "colab": {}
      },
      "source": [
        ""
      ],
      "execution_count": 0,
      "outputs": []
    }
  ]
}