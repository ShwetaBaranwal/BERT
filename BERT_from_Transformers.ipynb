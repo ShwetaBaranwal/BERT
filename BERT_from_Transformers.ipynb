{
  "nbformat": 4,
  "nbformat_minor": 0,
  "metadata": {
    "colab": {
      "name": "BERT from Transformers.ipynb",
      "provenance": [],
      "collapsed_sections": [],
      "authorship_tag": "ABX9TyPH2LOzHJh3mJK2zNDMh/cQ",
      "include_colab_link": true
    },
    "kernelspec": {
      "name": "python3",
      "display_name": "Python 3"
    },
    "accelerator": "GPU",
    "widgets": {
      "application/vnd.jupyter.widget-state+json": {
        "9aad186e0d3f40ebb19a3fde58072924": {
          "model_module": "@jupyter-widgets/controls",
          "model_name": "HBoxModel",
          "state": {
            "_view_name": "HBoxView",
            "_dom_classes": [],
            "_model_name": "HBoxModel",
            "_view_module": "@jupyter-widgets/controls",
            "_model_module_version": "1.5.0",
            "_view_count": null,
            "_view_module_version": "1.5.0",
            "box_style": "",
            "layout": "IPY_MODEL_c6c08c16b47d4a1ea4dc96864949a64b",
            "_model_module": "@jupyter-widgets/controls",
            "children": [
              "IPY_MODEL_1f31b40d28dc44748236bac3d8e41fa8",
              "IPY_MODEL_fad21b0d713c47a1aa1cd05c92f3986a"
            ]
          }
        },
        "c6c08c16b47d4a1ea4dc96864949a64b": {
          "model_module": "@jupyter-widgets/base",
          "model_name": "LayoutModel",
          "state": {
            "_view_name": "LayoutView",
            "grid_template_rows": null,
            "right": null,
            "justify_content": null,
            "_view_module": "@jupyter-widgets/base",
            "overflow": null,
            "_model_module_version": "1.2.0",
            "_view_count": null,
            "flex_flow": null,
            "width": null,
            "min_width": null,
            "border": null,
            "align_items": null,
            "bottom": null,
            "_model_module": "@jupyter-widgets/base",
            "top": null,
            "grid_column": null,
            "overflow_y": null,
            "overflow_x": null,
            "grid_auto_flow": null,
            "grid_area": null,
            "grid_template_columns": null,
            "flex": null,
            "_model_name": "LayoutModel",
            "justify_items": null,
            "grid_row": null,
            "max_height": null,
            "align_content": null,
            "visibility": null,
            "align_self": null,
            "height": null,
            "min_height": null,
            "padding": null,
            "grid_auto_rows": null,
            "grid_gap": null,
            "max_width": null,
            "order": null,
            "_view_module_version": "1.2.0",
            "grid_template_areas": null,
            "object_position": null,
            "object_fit": null,
            "grid_auto_columns": null,
            "margin": null,
            "display": null,
            "left": null
          }
        },
        "1f31b40d28dc44748236bac3d8e41fa8": {
          "model_module": "@jupyter-widgets/controls",
          "model_name": "IntProgressModel",
          "state": {
            "_view_name": "ProgressView",
            "style": "IPY_MODEL_913b7600e1af4da1a27dd1ae35947abb",
            "_dom_classes": [],
            "description": "Downloading",
            "_model_name": "IntProgressModel",
            "bar_style": "success",
            "max": 231508,
            "_view_module": "@jupyter-widgets/controls",
            "_model_module_version": "1.5.0",
            "value": 231508,
            "_view_count": null,
            "_view_module_version": "1.5.0",
            "orientation": "horizontal",
            "min": 0,
            "description_tooltip": null,
            "_model_module": "@jupyter-widgets/controls",
            "layout": "IPY_MODEL_090ebeb965604c9094edbb3d91e80f61"
          }
        },
        "fad21b0d713c47a1aa1cd05c92f3986a": {
          "model_module": "@jupyter-widgets/controls",
          "model_name": "HTMLModel",
          "state": {
            "_view_name": "HTMLView",
            "style": "IPY_MODEL_61c6653e55884002a695e9ed34558830",
            "_dom_classes": [],
            "description": "",
            "_model_name": "HTMLModel",
            "placeholder": "​",
            "_view_module": "@jupyter-widgets/controls",
            "_model_module_version": "1.5.0",
            "value": "100% 232k/232k [00:00&lt;00:00, 8.09MB/s]",
            "_view_count": null,
            "_view_module_version": "1.5.0",
            "description_tooltip": null,
            "_model_module": "@jupyter-widgets/controls",
            "layout": "IPY_MODEL_c6d5b34a99f74b2da044307af0511a66"
          }
        },
        "913b7600e1af4da1a27dd1ae35947abb": {
          "model_module": "@jupyter-widgets/controls",
          "model_name": "ProgressStyleModel",
          "state": {
            "_view_name": "StyleView",
            "_model_name": "ProgressStyleModel",
            "description_width": "initial",
            "_view_module": "@jupyter-widgets/base",
            "_model_module_version": "1.5.0",
            "_view_count": null,
            "_view_module_version": "1.2.0",
            "bar_color": null,
            "_model_module": "@jupyter-widgets/controls"
          }
        },
        "090ebeb965604c9094edbb3d91e80f61": {
          "model_module": "@jupyter-widgets/base",
          "model_name": "LayoutModel",
          "state": {
            "_view_name": "LayoutView",
            "grid_template_rows": null,
            "right": null,
            "justify_content": null,
            "_view_module": "@jupyter-widgets/base",
            "overflow": null,
            "_model_module_version": "1.2.0",
            "_view_count": null,
            "flex_flow": null,
            "width": null,
            "min_width": null,
            "border": null,
            "align_items": null,
            "bottom": null,
            "_model_module": "@jupyter-widgets/base",
            "top": null,
            "grid_column": null,
            "overflow_y": null,
            "overflow_x": null,
            "grid_auto_flow": null,
            "grid_area": null,
            "grid_template_columns": null,
            "flex": null,
            "_model_name": "LayoutModel",
            "justify_items": null,
            "grid_row": null,
            "max_height": null,
            "align_content": null,
            "visibility": null,
            "align_self": null,
            "height": null,
            "min_height": null,
            "padding": null,
            "grid_auto_rows": null,
            "grid_gap": null,
            "max_width": null,
            "order": null,
            "_view_module_version": "1.2.0",
            "grid_template_areas": null,
            "object_position": null,
            "object_fit": null,
            "grid_auto_columns": null,
            "margin": null,
            "display": null,
            "left": null
          }
        },
        "61c6653e55884002a695e9ed34558830": {
          "model_module": "@jupyter-widgets/controls",
          "model_name": "DescriptionStyleModel",
          "state": {
            "_view_name": "StyleView",
            "_model_name": "DescriptionStyleModel",
            "description_width": "",
            "_view_module": "@jupyter-widgets/base",
            "_model_module_version": "1.5.0",
            "_view_count": null,
            "_view_module_version": "1.2.0",
            "_model_module": "@jupyter-widgets/controls"
          }
        },
        "c6d5b34a99f74b2da044307af0511a66": {
          "model_module": "@jupyter-widgets/base",
          "model_name": "LayoutModel",
          "state": {
            "_view_name": "LayoutView",
            "grid_template_rows": null,
            "right": null,
            "justify_content": null,
            "_view_module": "@jupyter-widgets/base",
            "overflow": null,
            "_model_module_version": "1.2.0",
            "_view_count": null,
            "flex_flow": null,
            "width": null,
            "min_width": null,
            "border": null,
            "align_items": null,
            "bottom": null,
            "_model_module": "@jupyter-widgets/base",
            "top": null,
            "grid_column": null,
            "overflow_y": null,
            "overflow_x": null,
            "grid_auto_flow": null,
            "grid_area": null,
            "grid_template_columns": null,
            "flex": null,
            "_model_name": "LayoutModel",
            "justify_items": null,
            "grid_row": null,
            "max_height": null,
            "align_content": null,
            "visibility": null,
            "align_self": null,
            "height": null,
            "min_height": null,
            "padding": null,
            "grid_auto_rows": null,
            "grid_gap": null,
            "max_width": null,
            "order": null,
            "_view_module_version": "1.2.0",
            "grid_template_areas": null,
            "object_position": null,
            "object_fit": null,
            "grid_auto_columns": null,
            "margin": null,
            "display": null,
            "left": null
          }
        },
        "aa3fca5b99634f1dba5809cc5b7f957e": {
          "model_module": "@jupyter-widgets/controls",
          "model_name": "HBoxModel",
          "state": {
            "_view_name": "HBoxView",
            "_dom_classes": [],
            "_model_name": "HBoxModel",
            "_view_module": "@jupyter-widgets/controls",
            "_model_module_version": "1.5.0",
            "_view_count": null,
            "_view_module_version": "1.5.0",
            "box_style": "",
            "layout": "IPY_MODEL_dab7e2d5534641bc925f211fbca98313",
            "_model_module": "@jupyter-widgets/controls",
            "children": [
              "IPY_MODEL_68f54bcb0b6c4146afa826ba866ab1cf",
              "IPY_MODEL_c845a5006f154e8fb0d34c63c0dc9a50"
            ]
          }
        },
        "dab7e2d5534641bc925f211fbca98313": {
          "model_module": "@jupyter-widgets/base",
          "model_name": "LayoutModel",
          "state": {
            "_view_name": "LayoutView",
            "grid_template_rows": null,
            "right": null,
            "justify_content": null,
            "_view_module": "@jupyter-widgets/base",
            "overflow": null,
            "_model_module_version": "1.2.0",
            "_view_count": null,
            "flex_flow": null,
            "width": null,
            "min_width": null,
            "border": null,
            "align_items": null,
            "bottom": null,
            "_model_module": "@jupyter-widgets/base",
            "top": null,
            "grid_column": null,
            "overflow_y": null,
            "overflow_x": null,
            "grid_auto_flow": null,
            "grid_area": null,
            "grid_template_columns": null,
            "flex": null,
            "_model_name": "LayoutModel",
            "justify_items": null,
            "grid_row": null,
            "max_height": null,
            "align_content": null,
            "visibility": null,
            "align_self": null,
            "height": null,
            "min_height": null,
            "padding": null,
            "grid_auto_rows": null,
            "grid_gap": null,
            "max_width": null,
            "order": null,
            "_view_module_version": "1.2.0",
            "grid_template_areas": null,
            "object_position": null,
            "object_fit": null,
            "grid_auto_columns": null,
            "margin": null,
            "display": null,
            "left": null
          }
        },
        "68f54bcb0b6c4146afa826ba866ab1cf": {
          "model_module": "@jupyter-widgets/controls",
          "model_name": "IntProgressModel",
          "state": {
            "_view_name": "ProgressView",
            "style": "IPY_MODEL_9897b1fc0c584d4a93d40aedbf307489",
            "_dom_classes": [],
            "description": "Downloading",
            "_model_name": "IntProgressModel",
            "bar_style": "success",
            "max": 361,
            "_view_module": "@jupyter-widgets/controls",
            "_model_module_version": "1.5.0",
            "value": 361,
            "_view_count": null,
            "_view_module_version": "1.5.0",
            "orientation": "horizontal",
            "min": 0,
            "description_tooltip": null,
            "_model_module": "@jupyter-widgets/controls",
            "layout": "IPY_MODEL_a098064d5f274056bd172f1b7051b66d"
          }
        },
        "c845a5006f154e8fb0d34c63c0dc9a50": {
          "model_module": "@jupyter-widgets/controls",
          "model_name": "HTMLModel",
          "state": {
            "_view_name": "HTMLView",
            "style": "IPY_MODEL_f37886a0249143d4a9cf5574dad827b7",
            "_dom_classes": [],
            "description": "",
            "_model_name": "HTMLModel",
            "placeholder": "​",
            "_view_module": "@jupyter-widgets/controls",
            "_model_module_version": "1.5.0",
            "value": "100% 361/361 [00:00&lt;00:00, 10.1kB/s]",
            "_view_count": null,
            "_view_module_version": "1.5.0",
            "description_tooltip": null,
            "_model_module": "@jupyter-widgets/controls",
            "layout": "IPY_MODEL_3ebe4d39f0f2424092f7e0787568397d"
          }
        },
        "9897b1fc0c584d4a93d40aedbf307489": {
          "model_module": "@jupyter-widgets/controls",
          "model_name": "ProgressStyleModel",
          "state": {
            "_view_name": "StyleView",
            "_model_name": "ProgressStyleModel",
            "description_width": "initial",
            "_view_module": "@jupyter-widgets/base",
            "_model_module_version": "1.5.0",
            "_view_count": null,
            "_view_module_version": "1.2.0",
            "bar_color": null,
            "_model_module": "@jupyter-widgets/controls"
          }
        },
        "a098064d5f274056bd172f1b7051b66d": {
          "model_module": "@jupyter-widgets/base",
          "model_name": "LayoutModel",
          "state": {
            "_view_name": "LayoutView",
            "grid_template_rows": null,
            "right": null,
            "justify_content": null,
            "_view_module": "@jupyter-widgets/base",
            "overflow": null,
            "_model_module_version": "1.2.0",
            "_view_count": null,
            "flex_flow": null,
            "width": null,
            "min_width": null,
            "border": null,
            "align_items": null,
            "bottom": null,
            "_model_module": "@jupyter-widgets/base",
            "top": null,
            "grid_column": null,
            "overflow_y": null,
            "overflow_x": null,
            "grid_auto_flow": null,
            "grid_area": null,
            "grid_template_columns": null,
            "flex": null,
            "_model_name": "LayoutModel",
            "justify_items": null,
            "grid_row": null,
            "max_height": null,
            "align_content": null,
            "visibility": null,
            "align_self": null,
            "height": null,
            "min_height": null,
            "padding": null,
            "grid_auto_rows": null,
            "grid_gap": null,
            "max_width": null,
            "order": null,
            "_view_module_version": "1.2.0",
            "grid_template_areas": null,
            "object_position": null,
            "object_fit": null,
            "grid_auto_columns": null,
            "margin": null,
            "display": null,
            "left": null
          }
        },
        "f37886a0249143d4a9cf5574dad827b7": {
          "model_module": "@jupyter-widgets/controls",
          "model_name": "DescriptionStyleModel",
          "state": {
            "_view_name": "StyleView",
            "_model_name": "DescriptionStyleModel",
            "description_width": "",
            "_view_module": "@jupyter-widgets/base",
            "_model_module_version": "1.5.0",
            "_view_count": null,
            "_view_module_version": "1.2.0",
            "_model_module": "@jupyter-widgets/controls"
          }
        },
        "3ebe4d39f0f2424092f7e0787568397d": {
          "model_module": "@jupyter-widgets/base",
          "model_name": "LayoutModel",
          "state": {
            "_view_name": "LayoutView",
            "grid_template_rows": null,
            "right": null,
            "justify_content": null,
            "_view_module": "@jupyter-widgets/base",
            "overflow": null,
            "_model_module_version": "1.2.0",
            "_view_count": null,
            "flex_flow": null,
            "width": null,
            "min_width": null,
            "border": null,
            "align_items": null,
            "bottom": null,
            "_model_module": "@jupyter-widgets/base",
            "top": null,
            "grid_column": null,
            "overflow_y": null,
            "overflow_x": null,
            "grid_auto_flow": null,
            "grid_area": null,
            "grid_template_columns": null,
            "flex": null,
            "_model_name": "LayoutModel",
            "justify_items": null,
            "grid_row": null,
            "max_height": null,
            "align_content": null,
            "visibility": null,
            "align_self": null,
            "height": null,
            "min_height": null,
            "padding": null,
            "grid_auto_rows": null,
            "grid_gap": null,
            "max_width": null,
            "order": null,
            "_view_module_version": "1.2.0",
            "grid_template_areas": null,
            "object_position": null,
            "object_fit": null,
            "grid_auto_columns": null,
            "margin": null,
            "display": null,
            "left": null
          }
        },
        "0cc4789271094b34a41515dc114ba383": {
          "model_module": "@jupyter-widgets/controls",
          "model_name": "HBoxModel",
          "state": {
            "_view_name": "HBoxView",
            "_dom_classes": [],
            "_model_name": "HBoxModel",
            "_view_module": "@jupyter-widgets/controls",
            "_model_module_version": "1.5.0",
            "_view_count": null,
            "_view_module_version": "1.5.0",
            "box_style": "",
            "layout": "IPY_MODEL_328ca50e8fe84ab38bc88c965e715117",
            "_model_module": "@jupyter-widgets/controls",
            "children": [
              "IPY_MODEL_5bdc609d70ee4caa9ebe66ce9afda58a",
              "IPY_MODEL_34860d2854fb4302b2245f04bd8b2daf"
            ]
          }
        },
        "328ca50e8fe84ab38bc88c965e715117": {
          "model_module": "@jupyter-widgets/base",
          "model_name": "LayoutModel",
          "state": {
            "_view_name": "LayoutView",
            "grid_template_rows": null,
            "right": null,
            "justify_content": null,
            "_view_module": "@jupyter-widgets/base",
            "overflow": null,
            "_model_module_version": "1.2.0",
            "_view_count": null,
            "flex_flow": null,
            "width": null,
            "min_width": null,
            "border": null,
            "align_items": null,
            "bottom": null,
            "_model_module": "@jupyter-widgets/base",
            "top": null,
            "grid_column": null,
            "overflow_y": null,
            "overflow_x": null,
            "grid_auto_flow": null,
            "grid_area": null,
            "grid_template_columns": null,
            "flex": null,
            "_model_name": "LayoutModel",
            "justify_items": null,
            "grid_row": null,
            "max_height": null,
            "align_content": null,
            "visibility": null,
            "align_self": null,
            "height": null,
            "min_height": null,
            "padding": null,
            "grid_auto_rows": null,
            "grid_gap": null,
            "max_width": null,
            "order": null,
            "_view_module_version": "1.2.0",
            "grid_template_areas": null,
            "object_position": null,
            "object_fit": null,
            "grid_auto_columns": null,
            "margin": null,
            "display": null,
            "left": null
          }
        },
        "5bdc609d70ee4caa9ebe66ce9afda58a": {
          "model_module": "@jupyter-widgets/controls",
          "model_name": "IntProgressModel",
          "state": {
            "_view_name": "ProgressView",
            "style": "IPY_MODEL_1684cd65724a40e89a580f104389ef7e",
            "_dom_classes": [],
            "description": "Downloading",
            "_model_name": "IntProgressModel",
            "bar_style": "success",
            "max": 440473133,
            "_view_module": "@jupyter-widgets/controls",
            "_model_module_version": "1.5.0",
            "value": 440473133,
            "_view_count": null,
            "_view_module_version": "1.5.0",
            "orientation": "horizontal",
            "min": 0,
            "description_tooltip": null,
            "_model_module": "@jupyter-widgets/controls",
            "layout": "IPY_MODEL_4b42b469aeea4907afa7e33a80886ff4"
          }
        },
        "34860d2854fb4302b2245f04bd8b2daf": {
          "model_module": "@jupyter-widgets/controls",
          "model_name": "HTMLModel",
          "state": {
            "_view_name": "HTMLView",
            "style": "IPY_MODEL_83823d0d05754b35b663c23a7c393d1e",
            "_dom_classes": [],
            "description": "",
            "_model_name": "HTMLModel",
            "placeholder": "​",
            "_view_module": "@jupyter-widgets/controls",
            "_model_module_version": "1.5.0",
            "value": "100% 440M/440M [00:06&lt;00:00, 66.4MB/s]",
            "_view_count": null,
            "_view_module_version": "1.5.0",
            "description_tooltip": null,
            "_model_module": "@jupyter-widgets/controls",
            "layout": "IPY_MODEL_d70fecea973e4f93bb65f76d01d7615c"
          }
        },
        "1684cd65724a40e89a580f104389ef7e": {
          "model_module": "@jupyter-widgets/controls",
          "model_name": "ProgressStyleModel",
          "state": {
            "_view_name": "StyleView",
            "_model_name": "ProgressStyleModel",
            "description_width": "initial",
            "_view_module": "@jupyter-widgets/base",
            "_model_module_version": "1.5.0",
            "_view_count": null,
            "_view_module_version": "1.2.0",
            "bar_color": null,
            "_model_module": "@jupyter-widgets/controls"
          }
        },
        "4b42b469aeea4907afa7e33a80886ff4": {
          "model_module": "@jupyter-widgets/base",
          "model_name": "LayoutModel",
          "state": {
            "_view_name": "LayoutView",
            "grid_template_rows": null,
            "right": null,
            "justify_content": null,
            "_view_module": "@jupyter-widgets/base",
            "overflow": null,
            "_model_module_version": "1.2.0",
            "_view_count": null,
            "flex_flow": null,
            "width": null,
            "min_width": null,
            "border": null,
            "align_items": null,
            "bottom": null,
            "_model_module": "@jupyter-widgets/base",
            "top": null,
            "grid_column": null,
            "overflow_y": null,
            "overflow_x": null,
            "grid_auto_flow": null,
            "grid_area": null,
            "grid_template_columns": null,
            "flex": null,
            "_model_name": "LayoutModel",
            "justify_items": null,
            "grid_row": null,
            "max_height": null,
            "align_content": null,
            "visibility": null,
            "align_self": null,
            "height": null,
            "min_height": null,
            "padding": null,
            "grid_auto_rows": null,
            "grid_gap": null,
            "max_width": null,
            "order": null,
            "_view_module_version": "1.2.0",
            "grid_template_areas": null,
            "object_position": null,
            "object_fit": null,
            "grid_auto_columns": null,
            "margin": null,
            "display": null,
            "left": null
          }
        },
        "83823d0d05754b35b663c23a7c393d1e": {
          "model_module": "@jupyter-widgets/controls",
          "model_name": "DescriptionStyleModel",
          "state": {
            "_view_name": "StyleView",
            "_model_name": "DescriptionStyleModel",
            "description_width": "",
            "_view_module": "@jupyter-widgets/base",
            "_model_module_version": "1.5.0",
            "_view_count": null,
            "_view_module_version": "1.2.0",
            "_model_module": "@jupyter-widgets/controls"
          }
        },
        "d70fecea973e4f93bb65f76d01d7615c": {
          "model_module": "@jupyter-widgets/base",
          "model_name": "LayoutModel",
          "state": {
            "_view_name": "LayoutView",
            "grid_template_rows": null,
            "right": null,
            "justify_content": null,
            "_view_module": "@jupyter-widgets/base",
            "overflow": null,
            "_model_module_version": "1.2.0",
            "_view_count": null,
            "flex_flow": null,
            "width": null,
            "min_width": null,
            "border": null,
            "align_items": null,
            "bottom": null,
            "_model_module": "@jupyter-widgets/base",
            "top": null,
            "grid_column": null,
            "overflow_y": null,
            "overflow_x": null,
            "grid_auto_flow": null,
            "grid_area": null,
            "grid_template_columns": null,
            "flex": null,
            "_model_name": "LayoutModel",
            "justify_items": null,
            "grid_row": null,
            "max_height": null,
            "align_content": null,
            "visibility": null,
            "align_self": null,
            "height": null,
            "min_height": null,
            "padding": null,
            "grid_auto_rows": null,
            "grid_gap": null,
            "max_width": null,
            "order": null,
            "_view_module_version": "1.2.0",
            "grid_template_areas": null,
            "object_position": null,
            "object_fit": null,
            "grid_auto_columns": null,
            "margin": null,
            "display": null,
            "left": null
          }
        },
        "b7973079a7dd4789972825c3f009493c": {
          "model_module": "@jupyter-widgets/controls",
          "model_name": "HBoxModel",
          "state": {
            "_view_name": "HBoxView",
            "_dom_classes": [],
            "_model_name": "HBoxModel",
            "_view_module": "@jupyter-widgets/controls",
            "_model_module_version": "1.5.0",
            "_view_count": null,
            "_view_module_version": "1.5.0",
            "box_style": "",
            "layout": "IPY_MODEL_b42dda8bf600402a9afcbf3b471d31fb",
            "_model_module": "@jupyter-widgets/controls",
            "children": [
              "IPY_MODEL_c43b2865aa934b33a86856f8102852ed",
              "IPY_MODEL_c526b62323b54075ae89754c176fcd03"
            ]
          }
        },
        "b42dda8bf600402a9afcbf3b471d31fb": {
          "model_module": "@jupyter-widgets/base",
          "model_name": "LayoutModel",
          "state": {
            "_view_name": "LayoutView",
            "grid_template_rows": null,
            "right": null,
            "justify_content": null,
            "_view_module": "@jupyter-widgets/base",
            "overflow": null,
            "_model_module_version": "1.2.0",
            "_view_count": null,
            "flex_flow": null,
            "width": null,
            "min_width": null,
            "border": null,
            "align_items": null,
            "bottom": null,
            "_model_module": "@jupyter-widgets/base",
            "top": null,
            "grid_column": null,
            "overflow_y": null,
            "overflow_x": null,
            "grid_auto_flow": null,
            "grid_area": null,
            "grid_template_columns": null,
            "flex": null,
            "_model_name": "LayoutModel",
            "justify_items": null,
            "grid_row": null,
            "max_height": null,
            "align_content": null,
            "visibility": null,
            "align_self": null,
            "height": null,
            "min_height": null,
            "padding": null,
            "grid_auto_rows": null,
            "grid_gap": null,
            "max_width": null,
            "order": null,
            "_view_module_version": "1.2.0",
            "grid_template_areas": null,
            "object_position": null,
            "object_fit": null,
            "grid_auto_columns": null,
            "margin": null,
            "display": null,
            "left": null
          }
        },
        "c43b2865aa934b33a86856f8102852ed": {
          "model_module": "@jupyter-widgets/controls",
          "model_name": "IntProgressModel",
          "state": {
            "_view_name": "ProgressView",
            "style": "IPY_MODEL_5c913d62274144518e39a4a50ec25deb",
            "_dom_classes": [],
            "description": "Iteration",
            "_model_name": "IntProgressModel",
            "bar_style": "success",
            "max": 1563,
            "_view_module": "@jupyter-widgets/controls",
            "_model_module_version": "1.5.0",
            "value": 1563,
            "_view_count": null,
            "_view_module_version": "1.5.0",
            "orientation": "horizontal",
            "min": 0,
            "description_tooltip": null,
            "_model_module": "@jupyter-widgets/controls",
            "layout": "IPY_MODEL_f1c65030a6e849ac955193e0599427c0"
          }
        },
        "c526b62323b54075ae89754c176fcd03": {
          "model_module": "@jupyter-widgets/controls",
          "model_name": "HTMLModel",
          "state": {
            "_view_name": "HTMLView",
            "style": "IPY_MODEL_37e079e58a7b49fbb2c1a0ec41311072",
            "_dom_classes": [],
            "description": "",
            "_model_name": "HTMLModel",
            "placeholder": "​",
            "_view_module": "@jupyter-widgets/controls",
            "_model_module_version": "1.5.0",
            "value": "100% 1563/1563 [24:56&lt;00:00,  1.19it/s]",
            "_view_count": null,
            "_view_module_version": "1.5.0",
            "description_tooltip": null,
            "_model_module": "@jupyter-widgets/controls",
            "layout": "IPY_MODEL_b44b0ac8e95d47e7b48f5ac50a746034"
          }
        },
        "5c913d62274144518e39a4a50ec25deb": {
          "model_module": "@jupyter-widgets/controls",
          "model_name": "ProgressStyleModel",
          "state": {
            "_view_name": "StyleView",
            "_model_name": "ProgressStyleModel",
            "description_width": "initial",
            "_view_module": "@jupyter-widgets/base",
            "_model_module_version": "1.5.0",
            "_view_count": null,
            "_view_module_version": "1.2.0",
            "bar_color": null,
            "_model_module": "@jupyter-widgets/controls"
          }
        },
        "f1c65030a6e849ac955193e0599427c0": {
          "model_module": "@jupyter-widgets/base",
          "model_name": "LayoutModel",
          "state": {
            "_view_name": "LayoutView",
            "grid_template_rows": null,
            "right": null,
            "justify_content": null,
            "_view_module": "@jupyter-widgets/base",
            "overflow": null,
            "_model_module_version": "1.2.0",
            "_view_count": null,
            "flex_flow": null,
            "width": null,
            "min_width": null,
            "border": null,
            "align_items": null,
            "bottom": null,
            "_model_module": "@jupyter-widgets/base",
            "top": null,
            "grid_column": null,
            "overflow_y": null,
            "overflow_x": null,
            "grid_auto_flow": null,
            "grid_area": null,
            "grid_template_columns": null,
            "flex": null,
            "_model_name": "LayoutModel",
            "justify_items": null,
            "grid_row": null,
            "max_height": null,
            "align_content": null,
            "visibility": null,
            "align_self": null,
            "height": null,
            "min_height": null,
            "padding": null,
            "grid_auto_rows": null,
            "grid_gap": null,
            "max_width": null,
            "order": null,
            "_view_module_version": "1.2.0",
            "grid_template_areas": null,
            "object_position": null,
            "object_fit": null,
            "grid_auto_columns": null,
            "margin": null,
            "display": null,
            "left": null
          }
        },
        "37e079e58a7b49fbb2c1a0ec41311072": {
          "model_module": "@jupyter-widgets/controls",
          "model_name": "DescriptionStyleModel",
          "state": {
            "_view_name": "StyleView",
            "_model_name": "DescriptionStyleModel",
            "description_width": "",
            "_view_module": "@jupyter-widgets/base",
            "_model_module_version": "1.5.0",
            "_view_count": null,
            "_view_module_version": "1.2.0",
            "_model_module": "@jupyter-widgets/controls"
          }
        },
        "b44b0ac8e95d47e7b48f5ac50a746034": {
          "model_module": "@jupyter-widgets/base",
          "model_name": "LayoutModel",
          "state": {
            "_view_name": "LayoutView",
            "grid_template_rows": null,
            "right": null,
            "justify_content": null,
            "_view_module": "@jupyter-widgets/base",
            "overflow": null,
            "_model_module_version": "1.2.0",
            "_view_count": null,
            "flex_flow": null,
            "width": null,
            "min_width": null,
            "border": null,
            "align_items": null,
            "bottom": null,
            "_model_module": "@jupyter-widgets/base",
            "top": null,
            "grid_column": null,
            "overflow_y": null,
            "overflow_x": null,
            "grid_auto_flow": null,
            "grid_area": null,
            "grid_template_columns": null,
            "flex": null,
            "_model_name": "LayoutModel",
            "justify_items": null,
            "grid_row": null,
            "max_height": null,
            "align_content": null,
            "visibility": null,
            "align_self": null,
            "height": null,
            "min_height": null,
            "padding": null,
            "grid_auto_rows": null,
            "grid_gap": null,
            "max_width": null,
            "order": null,
            "_view_module_version": "1.2.0",
            "grid_template_areas": null,
            "object_position": null,
            "object_fit": null,
            "grid_auto_columns": null,
            "margin": null,
            "display": null,
            "left": null
          }
        }
      }
    }
  },
  "cells": [
    {
      "cell_type": "markdown",
      "metadata": {
        "id": "view-in-github",
        "colab_type": "text"
      },
      "source": [
        "<a href=\"https://colab.research.google.com/github/ShwetaBaranwal/BERT/blob/master/BERT_from_Transformers.ipynb\" target=\"_parent\"><img src=\"https://colab.research.google.com/assets/colab-badge.svg\" alt=\"Open In Colab\"/></a>"
      ]
    },
    {
      "cell_type": "code",
      "metadata": {
        "id": "GAcDYH8yqNpT",
        "colab_type": "code",
        "outputId": "7633971f-1dd9-4763-f09a-8c1edfc3b49b",
        "colab": {
          "base_uri": "https://localhost:8080/",
          "height": 676
        }
      },
      "source": [
        "!pip install transformers"
      ],
      "execution_count": 1,
      "outputs": [
        {
          "output_type": "stream",
          "text": [
            "Collecting transformers\n",
            "\u001b[?25l  Downloading https://files.pythonhosted.org/packages/ee/fc/bd726a15ab2c66dc09306689d04da07a3770dad724f0883f0a4bfb745087/transformers-2.4.1-py3-none-any.whl (475kB)\n",
            "\r\u001b[K     |▊                               | 10kB 31.8MB/s eta 0:00:01\r\u001b[K     |█▍                              | 20kB 36.2MB/s eta 0:00:01\r\u001b[K     |██                              | 30kB 37.9MB/s eta 0:00:01\r\u001b[K     |██▊                             | 40kB 41.7MB/s eta 0:00:01\r\u001b[K     |███▍                            | 51kB 44.6MB/s eta 0:00:01\r\u001b[K     |████▏                           | 61kB 48.4MB/s eta 0:00:01\r\u001b[K     |████▉                           | 71kB 48.9MB/s eta 0:00:01\r\u001b[K     |█████▌                          | 81kB 49.5MB/s eta 0:00:01\r\u001b[K     |██████▏                         | 92kB 51.0MB/s eta 0:00:01\r\u001b[K     |██████▉                         | 102kB 51.0MB/s eta 0:00:01\r\u001b[K     |███████▋                        | 112kB 51.0MB/s eta 0:00:01\r\u001b[K     |████████▎                       | 122kB 51.0MB/s eta 0:00:01\r\u001b[K     |█████████                       | 133kB 51.0MB/s eta 0:00:01\r\u001b[K     |█████████▋                      | 143kB 51.0MB/s eta 0:00:01\r\u001b[K     |██████████▎                     | 153kB 51.0MB/s eta 0:00:01\r\u001b[K     |███████████                     | 163kB 51.0MB/s eta 0:00:01\r\u001b[K     |███████████▊                    | 174kB 51.0MB/s eta 0:00:01\r\u001b[K     |████████████▍                   | 184kB 51.0MB/s eta 0:00:01\r\u001b[K     |█████████████                   | 194kB 51.0MB/s eta 0:00:01\r\u001b[K     |█████████████▊                  | 204kB 51.0MB/s eta 0:00:01\r\u001b[K     |██████████████▌                 | 215kB 51.0MB/s eta 0:00:01\r\u001b[K     |███████████████▏                | 225kB 51.0MB/s eta 0:00:01\r\u001b[K     |███████████████▉                | 235kB 51.0MB/s eta 0:00:01\r\u001b[K     |████████████████▌               | 245kB 51.0MB/s eta 0:00:01\r\u001b[K     |█████████████████▏              | 256kB 51.0MB/s eta 0:00:01\r\u001b[K     |██████████████████              | 266kB 51.0MB/s eta 0:00:01\r\u001b[K     |██████████████████▋             | 276kB 51.0MB/s eta 0:00:01\r\u001b[K     |███████████████████▎            | 286kB 51.0MB/s eta 0:00:01\r\u001b[K     |████████████████████            | 296kB 51.0MB/s eta 0:00:01\r\u001b[K     |████████████████████▋           | 307kB 51.0MB/s eta 0:00:01\r\u001b[K     |█████████████████████▍          | 317kB 51.0MB/s eta 0:00:01\r\u001b[K     |██████████████████████          | 327kB 51.0MB/s eta 0:00:01\r\u001b[K     |██████████████████████▊         | 337kB 51.0MB/s eta 0:00:01\r\u001b[K     |███████████████████████▍        | 348kB 51.0MB/s eta 0:00:01\r\u001b[K     |████████████████████████        | 358kB 51.0MB/s eta 0:00:01\r\u001b[K     |████████████████████████▉       | 368kB 51.0MB/s eta 0:00:01\r\u001b[K     |█████████████████████████▌      | 378kB 51.0MB/s eta 0:00:01\r\u001b[K     |██████████████████████████▏     | 389kB 51.0MB/s eta 0:00:01\r\u001b[K     |██████████████████████████▉     | 399kB 51.0MB/s eta 0:00:01\r\u001b[K     |███████████████████████████▌    | 409kB 51.0MB/s eta 0:00:01\r\u001b[K     |████████████████████████████▎   | 419kB 51.0MB/s eta 0:00:01\r\u001b[K     |█████████████████████████████   | 430kB 51.0MB/s eta 0:00:01\r\u001b[K     |█████████████████████████████▋  | 440kB 51.0MB/s eta 0:00:01\r\u001b[K     |██████████████████████████████▎ | 450kB 51.0MB/s eta 0:00:01\r\u001b[K     |███████████████████████████████ | 460kB 51.0MB/s eta 0:00:01\r\u001b[K     |███████████████████████████████▊| 471kB 51.0MB/s eta 0:00:01\r\u001b[K     |████████████████████████████████| 481kB 51.0MB/s \n",
            "\u001b[?25hRequirement already satisfied: boto3 in /usr/local/lib/python3.6/dist-packages (from transformers) (1.11.15)\n",
            "Collecting sacremoses\n",
            "\u001b[?25l  Downloading https://files.pythonhosted.org/packages/a6/b4/7a41d630547a4afd58143597d5a49e07bfd4c42914d8335b2a5657efc14b/sacremoses-0.0.38.tar.gz (860kB)\n",
            "\r\u001b[K     |▍                               | 10kB 31.6MB/s eta 0:00:01\r\u001b[K     |▊                               | 20kB 41.1MB/s eta 0:00:01\r\u001b[K     |█▏                              | 30kB 46.4MB/s eta 0:00:01\r\u001b[K     |█▌                              | 40kB 49.9MB/s eta 0:00:01\r\u001b[K     |██                              | 51kB 51.1MB/s eta 0:00:01\r\u001b[K     |██▎                             | 61kB 54.7MB/s eta 0:00:01\r\u001b[K     |██▋                             | 71kB 51.1MB/s eta 0:00:01\r\u001b[K     |███                             | 81kB 52.1MB/s eta 0:00:01\r\u001b[K     |███▍                            | 92kB 54.1MB/s eta 0:00:01\r\u001b[K     |███▉                            | 102kB 56.2MB/s eta 0:00:01\r\u001b[K     |████▏                           | 112kB 56.2MB/s eta 0:00:01\r\u001b[K     |████▋                           | 122kB 56.2MB/s eta 0:00:01\r\u001b[K     |█████                           | 133kB 56.2MB/s eta 0:00:01\r\u001b[K     |█████▎                          | 143kB 56.2MB/s eta 0:00:01\r\u001b[K     |█████▊                          | 153kB 56.2MB/s eta 0:00:01\r\u001b[K     |██████                          | 163kB 56.2MB/s eta 0:00:01\r\u001b[K     |██████▌                         | 174kB 56.2MB/s eta 0:00:01\r\u001b[K     |██████▉                         | 184kB 56.2MB/s eta 0:00:01\r\u001b[K     |███████▎                        | 194kB 56.2MB/s eta 0:00:01\r\u001b[K     |███████▋                        | 204kB 56.2MB/s eta 0:00:01\r\u001b[K     |████████                        | 215kB 56.2MB/s eta 0:00:01\r\u001b[K     |████████▍                       | 225kB 56.2MB/s eta 0:00:01\r\u001b[K     |████████▊                       | 235kB 56.2MB/s eta 0:00:01\r\u001b[K     |█████████▏                      | 245kB 56.2MB/s eta 0:00:01\r\u001b[K     |█████████▌                      | 256kB 56.2MB/s eta 0:00:01\r\u001b[K     |██████████                      | 266kB 56.2MB/s eta 0:00:01\r\u001b[K     |██████████▎                     | 276kB 56.2MB/s eta 0:00:01\r\u001b[K     |██████████▋                     | 286kB 56.2MB/s eta 0:00:01\r\u001b[K     |███████████                     | 296kB 56.2MB/s eta 0:00:01\r\u001b[K     |███████████▍                    | 307kB 56.2MB/s eta 0:00:01\r\u001b[K     |███████████▉                    | 317kB 56.2MB/s eta 0:00:01\r\u001b[K     |████████████▏                   | 327kB 56.2MB/s eta 0:00:01\r\u001b[K     |████████████▋                   | 337kB 56.2MB/s eta 0:00:01\r\u001b[K     |█████████████                   | 348kB 56.2MB/s eta 0:00:01\r\u001b[K     |█████████████▎                  | 358kB 56.2MB/s eta 0:00:01\r\u001b[K     |█████████████▊                  | 368kB 56.2MB/s eta 0:00:01\r\u001b[K     |██████████████                  | 378kB 56.2MB/s eta 0:00:01\r\u001b[K     |██████████████▌                 | 389kB 56.2MB/s eta 0:00:01\r\u001b[K     |██████████████▉                 | 399kB 56.2MB/s eta 0:00:01\r\u001b[K     |███████████████▎                | 409kB 56.2MB/s eta 0:00:01\r\u001b[K     |███████████████▋                | 419kB 56.2MB/s eta 0:00:01\r\u001b[K     |████████████████                | 430kB 56.2MB/s eta 0:00:01\r\u001b[K     |████████████████▍               | 440kB 56.2MB/s eta 0:00:01\r\u001b[K     |████████████████▊               | 450kB 56.2MB/s eta 0:00:01\r\u001b[K     |█████████████████▏              | 460kB 56.2MB/s eta 0:00:01\r\u001b[K     |█████████████████▌              | 471kB 56.2MB/s eta 0:00:01\r\u001b[K     |██████████████████              | 481kB 56.2MB/s eta 0:00:01\r\u001b[K     |██████████████████▎             | 491kB 56.2MB/s eta 0:00:01\r\u001b[K     |██████████████████▋             | 501kB 56.2MB/s eta 0:00:01\r\u001b[K     |███████████████████             | 512kB 56.2MB/s eta 0:00:01\r\u001b[K     |███████████████████▍            | 522kB 56.2MB/s eta 0:00:01\r\u001b[K     |███████████████████▉            | 532kB 56.2MB/s eta 0:00:01\r\u001b[K     |████████████████████▏           | 542kB 56.2MB/s eta 0:00:01\r\u001b[K     |████████████████████▋           | 552kB 56.2MB/s eta 0:00:01\r\u001b[K     |█████████████████████           | 563kB 56.2MB/s eta 0:00:01\r\u001b[K     |█████████████████████▎          | 573kB 56.2MB/s eta 0:00:01\r\u001b[K     |█████████████████████▊          | 583kB 56.2MB/s eta 0:00:01\r\u001b[K     |██████████████████████          | 593kB 56.2MB/s eta 0:00:01\r\u001b[K     |██████████████████████▌         | 604kB 56.2MB/s eta 0:00:01\r\u001b[K     |██████████████████████▉         | 614kB 56.2MB/s eta 0:00:01\r\u001b[K     |███████████████████████▏        | 624kB 56.2MB/s eta 0:00:01\r\u001b[K     |███████████████████████▋        | 634kB 56.2MB/s eta 0:00:01\r\u001b[K     |████████████████████████        | 645kB 56.2MB/s eta 0:00:01\r\u001b[K     |████████████████████████▍       | 655kB 56.2MB/s eta 0:00:01\r\u001b[K     |████████████████████████▊       | 665kB 56.2MB/s eta 0:00:01\r\u001b[K     |█████████████████████████▏      | 675kB 56.2MB/s eta 0:00:01\r\u001b[K     |█████████████████████████▌      | 686kB 56.2MB/s eta 0:00:01\r\u001b[K     |█████████████████████████▉      | 696kB 56.2MB/s eta 0:00:01\r\u001b[K     |██████████████████████████▎     | 706kB 56.2MB/s eta 0:00:01\r\u001b[K     |██████████████████████████▋     | 716kB 56.2MB/s eta 0:00:01\r\u001b[K     |███████████████████████████     | 727kB 56.2MB/s eta 0:00:01\r\u001b[K     |███████████████████████████▍    | 737kB 56.2MB/s eta 0:00:01\r\u001b[K     |███████████████████████████▉    | 747kB 56.2MB/s eta 0:00:01\r\u001b[K     |████████████████████████████▏   | 757kB 56.2MB/s eta 0:00:01\r\u001b[K     |████████████████████████████▌   | 768kB 56.2MB/s eta 0:00:01\r\u001b[K     |█████████████████████████████   | 778kB 56.2MB/s eta 0:00:01\r\u001b[K     |█████████████████████████████▎  | 788kB 56.2MB/s eta 0:00:01\r\u001b[K     |█████████████████████████████▊  | 798kB 56.2MB/s eta 0:00:01\r\u001b[K     |██████████████████████████████  | 808kB 56.2MB/s eta 0:00:01\r\u001b[K     |██████████████████████████████▌ | 819kB 56.2MB/s eta 0:00:01\r\u001b[K     |██████████████████████████████▉ | 829kB 56.2MB/s eta 0:00:01\r\u001b[K     |███████████████████████████████▏| 839kB 56.2MB/s eta 0:00:01\r\u001b[K     |███████████████████████████████▋| 849kB 56.2MB/s eta 0:00:01\r\u001b[K     |████████████████████████████████| 860kB 56.2MB/s eta 0:00:01\r\u001b[K     |████████████████████████████████| 870kB 56.2MB/s \n",
            "\u001b[?25hRequirement already satisfied: numpy in /usr/local/lib/python3.6/dist-packages (from transformers) (1.17.5)\n",
            "Collecting tokenizers==0.0.11\n",
            "\u001b[?25l  Downloading https://files.pythonhosted.org/packages/5e/36/7af38d572c935f8e0462ec7b4f7a46d73a2b3b1a938f50a5e8132d5b2dc5/tokenizers-0.0.11-cp36-cp36m-manylinux1_x86_64.whl (3.1MB)\n",
            "\u001b[K     |████████████████████████████████| 3.1MB 56.1MB/s \n",
            "\u001b[?25hRequirement already satisfied: requests in /usr/local/lib/python3.6/dist-packages (from transformers) (2.21.0)\n",
            "Requirement already satisfied: tqdm>=4.27 in /usr/local/lib/python3.6/dist-packages (from transformers) (4.28.1)\n",
            "Requirement already satisfied: filelock in /usr/local/lib/python3.6/dist-packages (from transformers) (3.0.12)\n",
            "Collecting sentencepiece\n",
            "\u001b[?25l  Downloading https://files.pythonhosted.org/packages/74/f4/2d5214cbf13d06e7cb2c20d84115ca25b53ea76fa1f0ade0e3c9749de214/sentencepiece-0.1.85-cp36-cp36m-manylinux1_x86_64.whl (1.0MB)\n",
            "\u001b[K     |████████████████████████████████| 1.0MB 54.6MB/s \n",
            "\u001b[?25hRequirement already satisfied: regex!=2019.12.17 in /usr/local/lib/python3.6/dist-packages (from transformers) (2019.12.20)\n",
            "Requirement already satisfied: botocore<1.15.0,>=1.14.15 in /usr/local/lib/python3.6/dist-packages (from boto3->transformers) (1.14.15)\n",
            "Requirement already satisfied: s3transfer<0.4.0,>=0.3.0 in /usr/local/lib/python3.6/dist-packages (from boto3->transformers) (0.3.3)\n",
            "Requirement already satisfied: jmespath<1.0.0,>=0.7.1 in /usr/local/lib/python3.6/dist-packages (from boto3->transformers) (0.9.4)\n",
            "Requirement already satisfied: six in /usr/local/lib/python3.6/dist-packages (from sacremoses->transformers) (1.12.0)\n",
            "Requirement already satisfied: click in /usr/local/lib/python3.6/dist-packages (from sacremoses->transformers) (7.0)\n",
            "Requirement already satisfied: joblib in /usr/local/lib/python3.6/dist-packages (from sacremoses->transformers) (0.14.1)\n",
            "Requirement already satisfied: certifi>=2017.4.17 in /usr/local/lib/python3.6/dist-packages (from requests->transformers) (2019.11.28)\n",
            "Requirement already satisfied: urllib3<1.25,>=1.21.1 in /usr/local/lib/python3.6/dist-packages (from requests->transformers) (1.24.3)\n",
            "Requirement already satisfied: chardet<3.1.0,>=3.0.2 in /usr/local/lib/python3.6/dist-packages (from requests->transformers) (3.0.4)\n",
            "Requirement already satisfied: idna<2.9,>=2.5 in /usr/local/lib/python3.6/dist-packages (from requests->transformers) (2.8)\n",
            "Requirement already satisfied: python-dateutil<3.0.0,>=2.1 in /usr/local/lib/python3.6/dist-packages (from botocore<1.15.0,>=1.14.15->boto3->transformers) (2.6.1)\n",
            "Requirement already satisfied: docutils<0.16,>=0.10 in /usr/local/lib/python3.6/dist-packages (from botocore<1.15.0,>=1.14.15->boto3->transformers) (0.15.2)\n",
            "Building wheels for collected packages: sacremoses\n",
            "  Building wheel for sacremoses (setup.py) ... \u001b[?25l\u001b[?25hdone\n",
            "  Created wheel for sacremoses: filename=sacremoses-0.0.38-cp36-none-any.whl size=884628 sha256=8ec0bfefbed78ca757dfcb1733099d6142d20c433b67f17f9ebca3dfec2fd78d\n",
            "  Stored in directory: /root/.cache/pip/wheels/6d/ec/1a/21b8912e35e02741306f35f66c785f3afe94de754a0eaf1422\n",
            "Successfully built sacremoses\n",
            "Installing collected packages: sacremoses, tokenizers, sentencepiece, transformers\n",
            "Successfully installed sacremoses-0.0.38 sentencepiece-0.1.85 tokenizers-0.0.11 transformers-2.4.1\n"
          ],
          "name": "stdout"
        }
      ]
    },
    {
      "cell_type": "code",
      "metadata": {
        "id": "lxqJhJTaB6Ib",
        "colab_type": "code",
        "outputId": "a01aeac9-fb6c-4f45-e38a-5c15b74e6e71",
        "colab": {
          "base_uri": "https://localhost:8080/",
          "height": 81
        }
      },
      "source": [
        "from torch import nn\n",
        "import torch\n",
        "from torch.utils.data import Dataset, DataLoader\n",
        "import transformers\n",
        "from transformers import glue_compute_metrics as compute_metrics\n",
        "from transformers.optimization import AdamW\n",
        "import pandas as pd\n",
        "import numpy as np\n",
        "from tqdm import trange, tqdm_notebook\n",
        "from sklearn.metrics import confusion_matrix"
      ],
      "execution_count": 2,
      "outputs": [
        {
          "output_type": "display_data",
          "data": {
            "text/html": [
              "<p style=\"color: red;\">\n",
              "The default version of TensorFlow in Colab will soon switch to TensorFlow 2.x.<br>\n",
              "We recommend you <a href=\"https://www.tensorflow.org/guide/migrate\" target=\"_blank\">upgrade</a> now \n",
              "or ensure your notebook will continue to use TensorFlow 1.x via the <code>%tensorflow_version 1.x</code> magic:\n",
              "<a href=\"https://colab.research.google.com/notebooks/tensorflow_version.ipynb\" target=\"_blank\">more info</a>.</p>\n"
            ],
            "text/plain": [
              "<IPython.core.display.HTML object>"
            ]
          },
          "metadata": {
            "tags": []
          }
        }
      ]
    },
    {
      "cell_type": "markdown",
      "metadata": {
        "id": "twY23S0xhxix",
        "colab_type": "text"
      },
      "source": [
        "Bert Tokenization:\n"
      ]
    },
    {
      "cell_type": "code",
      "metadata": {
        "id": "chvOPghgvcLr",
        "colab_type": "code",
        "colab": {
          "base_uri": "https://localhost:8080/",
          "height": 66,
          "referenced_widgets": [
            "9aad186e0d3f40ebb19a3fde58072924",
            "c6c08c16b47d4a1ea4dc96864949a64b",
            "1f31b40d28dc44748236bac3d8e41fa8",
            "fad21b0d713c47a1aa1cd05c92f3986a",
            "913b7600e1af4da1a27dd1ae35947abb",
            "090ebeb965604c9094edbb3d91e80f61",
            "61c6653e55884002a695e9ed34558830",
            "c6d5b34a99f74b2da044307af0511a66"
          ]
        },
        "outputId": "c81e2f31-9324-45d9-b54d-d23970194ea4"
      },
      "source": [
        "#tokenizer\n",
        "tokenizer = transformers.BertTokenizer.from_pretrained('bert-base-uncased')\n",
        "sent = 'This is my dog. His name is Jack.'\n",
        "sent2 = 'He loves playing.'\n",
        "inputs = tokenizer.encode_plus(text = sent, text_pair = sent2, add_special_tokens=True, max_length= 15)"
      ],
      "execution_count": 3,
      "outputs": [
        {
          "output_type": "display_data",
          "data": {
            "application/vnd.jupyter.widget-view+json": {
              "model_id": "9aad186e0d3f40ebb19a3fde58072924",
              "version_minor": 0,
              "version_major": 2
            },
            "text/plain": [
              "HBox(children=(IntProgress(value=0, description='Downloading', max=231508, style=ProgressStyle(description_wid…"
            ]
          },
          "metadata": {
            "tags": []
          }
        },
        {
          "output_type": "stream",
          "text": [
            "\n"
          ],
          "name": "stdout"
        }
      ]
    },
    {
      "cell_type": "code",
      "metadata": {
        "id": "OgPnTR27vcHg",
        "colab_type": "code",
        "outputId": "57d26215-4417-4680-fdba-3c04f3ce05d2",
        "colab": {
          "base_uri": "https://localhost:8080/",
          "height": 311
        }
      },
      "source": [
        "inputs"
      ],
      "execution_count": 4,
      "outputs": [
        {
          "output_type": "execute_result",
          "data": {
            "text/plain": [
              "{'attention_mask': [1, 1, 1, 1, 1, 1, 1, 1, 1, 1, 1, 1, 1, 1, 1],\n",
              " 'input_ids': [101,\n",
              "  2023,\n",
              "  2003,\n",
              "  2026,\n",
              "  3899,\n",
              "  1012,\n",
              "  2010,\n",
              "  2171,\n",
              "  2003,\n",
              "  102,\n",
              "  2002,\n",
              "  7459,\n",
              "  2652,\n",
              "  1012,\n",
              "  102],\n",
              " 'token_type_ids': [0, 0, 0, 0, 0, 0, 0, 0, 0, 0, 1, 1, 1, 1, 1]}"
            ]
          },
          "metadata": {
            "tags": []
          },
          "execution_count": 4
        }
      ]
    },
    {
      "cell_type": "code",
      "metadata": {
        "id": "Ro2S38j7vcEU",
        "colab_type": "code",
        "outputId": "6920e630-7df4-4bca-b845-67b765f2621f",
        "colab": {
          "base_uri": "https://localhost:8080/",
          "height": 35
        }
      },
      "source": [
        "tokenizer.decode([101,\n",
        "  2023,\n",
        "  2003,\n",
        "  2026,\n",
        "  3899,\n",
        "  1012,\n",
        "  2010,\n",
        "  2171,\n",
        "  2003,\n",
        "  102,\n",
        "  2002,\n",
        "  7459,\n",
        "  2652,\n",
        "  1012,\n",
        "  102])"
      ],
      "execution_count": 5,
      "outputs": [
        {
          "output_type": "execute_result",
          "data": {
            "text/plain": [
              "'[CLS] this is my dog. his name is [SEP] he loves playing. [SEP]'"
            ]
          },
          "metadata": {
            "tags": []
          },
          "execution_count": 5
        }
      ]
    },
    {
      "cell_type": "markdown",
      "metadata": {
        "id": "v0KtEWFgh1Mo",
        "colab_type": "text"
      },
      "source": [
        "Model class:"
      ]
    },
    {
      "cell_type": "code",
      "metadata": {
        "id": "KKXl_iv5oBOl",
        "colab_type": "code",
        "colab": {}
      },
      "source": [
        "class BERTBASECLASSIFIER(nn.Module):\n",
        "  def __init__(self, bert_type, num_labels):\n",
        "    super(BERTBASECLASSIFIER, self).__init__()\n",
        "    self.bert_type = bert_type\n",
        "    self.num_labels = num_labels\n",
        "    self.bert = transformers.BertForSequenceClassification.from_pretrained(\n",
        "                      self.bert_type, \n",
        "                      num_labels=self.num_labels)\n",
        "\n",
        "  def forward(self, ids, mask_ids, token_ids, label):\n",
        "    _, logits = self.bert(\n",
        "                      input_ids = ids, \n",
        "                      attention_mask = mask_ids, \n",
        "                      token_type_ids = token_ids,\n",
        "                      labels = label)\n",
        "    return logits\n"
      ],
      "execution_count": 0,
      "outputs": []
    },
    {
      "cell_type": "markdown",
      "metadata": {
        "id": "-XHaCW7Xh4Tu",
        "colab_type": "text"
      },
      "source": [
        "Dataset class:"
      ]
    },
    {
      "cell_type": "code",
      "metadata": {
        "id": "s-YvsoPywzC4",
        "colab_type": "code",
        "colab": {}
      },
      "source": [
        "class BertDatasetModule(Dataset):\n",
        "  def __init__(self, tokenizer, input_sent, max_length, target):\n",
        "    self.input_seq = input_sent\n",
        "    self.tokenizer = tokenizer\n",
        "    self.max_length = max_length\n",
        "    self.target = target \n",
        "  \n",
        "  def __len__(self):\n",
        "        return len(self.input_seq)\n",
        "  \n",
        "  def __getitem__(self, idx):\n",
        "    input_ = self.input_seq[idx]\n",
        "    inputs = self.tokenizer.encode_plus(text = input_, add_special_tokens=True, max_length= self.max_length)\n",
        "    ids = inputs['input_ids']\n",
        "    mask_ids = inputs['attention_mask']\n",
        "    token_ids = inputs['token_type_ids']\n",
        "\n",
        "    padding_len = self.max_length - len(ids)\n",
        "    ids = ids + ([0]*padding_len)\n",
        "    mask_ids = mask_ids + ([0]*padding_len)\n",
        "    token_ids = token_ids  + ([0]*padding_len)\n",
        " \n",
        "    return {'ids': torch.tensor(ids, dtype = torch.long),\n",
        "            'mask': torch.tensor(mask_ids, dtype = torch.long),\n",
        "            'token_type_ids': torch.tensor(token_ids, dtype = torch.long),\n",
        "            'target':  torch.tensor(self.target[idx], dtype = torch.int16)}"
      ],
      "execution_count": 0,
      "outputs": []
    },
    {
      "cell_type": "markdown",
      "metadata": {
        "id": "v6bv0qqakahJ",
        "colab_type": "text"
      },
      "source": [
        "Defining loss:"
      ]
    },
    {
      "cell_type": "code",
      "metadata": {
        "id": "oiO-AdwJ1niC",
        "colab_type": "code",
        "colab": {}
      },
      "source": [
        "def loss_func(outputs, targets):\n",
        "  return nn.CrossEntropyLoss()(outputs, targets)"
      ],
      "execution_count": 0,
      "outputs": []
    },
    {
      "cell_type": "markdown",
      "metadata": {
        "id": "_NwQF-Tvl0By",
        "colab_type": "text"
      },
      "source": [
        "Model training:"
      ]
    },
    {
      "cell_type": "code",
      "metadata": {
        "id": "uC1WGutKmxem",
        "colab_type": "code",
        "colab": {}
      },
      "source": [
        "def train_loop(dataloader, model, optimizer, device, max_grad_norm, scheduler=None):\n",
        "  model.train()\n",
        "  for bi, d in enumerate(tqdm_notebook(dataloader, desc=\"Iteration\")):\n",
        "    ids = d['ids']\n",
        "    mask_ids = d['mask']\n",
        "    token_ids = d['token_type_ids']\n",
        "    target = d['target']\n",
        "\n",
        "    ids = ids.to(device, dtype = torch.long)\n",
        "    mask_ids = mask_ids.to(device, dtype = torch.long)\n",
        "    token_ids = token_ids.to(device, dtype = torch.long)\n",
        "    target = target.to(device, dtype = torch.long)\n",
        "\n",
        "    optimizer.zero_grad()\n",
        "    output = model(ids, mask_ids, token_ids, target)\n",
        "    loss = loss_func(output, target)\n",
        "    torch.nn.utils.clip_grad_norm_(model.parameters(), max_grad_norm)\n",
        "    loss.backward()\n",
        "    optimizer.step()\n",
        "    if scheduler is not None:\n",
        "      scheduler.step()\n",
        "    if bi%100==0:\n",
        "      print (f\"bi: {bi}, loss: {loss}\")\n"
      ],
      "execution_count": 0,
      "outputs": []
    },
    {
      "cell_type": "markdown",
      "metadata": {
        "id": "MD0yxvHSl_7K",
        "colab_type": "text"
      },
      "source": [
        "Model evaluation:"
      ]
    },
    {
      "cell_type": "code",
      "metadata": {
        "id": "q-ZMrZLqrZfT",
        "colab_type": "code",
        "colab": {}
      },
      "source": [
        "def eval_loop(dataloader, model, device):\n",
        "  model.eval()\n",
        "  preds = None\n",
        "  out_label_ids = None\n",
        "  eval_loss = 0.0\n",
        "  eval_steps = 0\n",
        "\n",
        "  for bi, d in enumerate(dataloader):\n",
        "    ids = d['ids']\n",
        "    mask_ids = d['mask']\n",
        "    token_ids = d['token_type_ids']\n",
        "    target = d['target']\n",
        "\n",
        "    ids = ids.to(device, dtype = torch.long)\n",
        "    mask_ids = mask_ids.to(device, dtype = torch.long)\n",
        "    token_ids = token_ids.to(device, dtype = torch.long)\n",
        "    target = target.to(device, dtype = torch.long)\n",
        "    with torch.no_grad():\n",
        "      output = model(ids, mask_ids, token_ids, target)\n",
        "      loss = loss_func(output, target)\n",
        "      eval_loss += loss.mean().item()\n",
        "    \n",
        "    eval_steps += 1\n",
        "    if preds is None:\n",
        "      preds = output.detach().cpu().numpy()\n",
        "      out_label_ids = target.detach().cpu().numpy()\n",
        "    else:\n",
        "      preds = np.append(preds, output.detach().cpu().numpy(), axis=0)\n",
        "      out_label_ids = np.append(out_label_ids, target.detach().cpu().numpy(), axis=0)\n",
        "\n",
        "  eval_loss = eval_loss/eval_steps\n",
        "  preds = np.argmax(preds, axis=1)\n",
        "  \n",
        "  conf_matrix = confusion_matrix(out_label_ids, preds)\n",
        "  print(\"Confusion Matrix:\")\n",
        "  print(conf_matrix)\n",
        "\n",
        "  tn, fp, fn, tp = conf_matrix.ravel()\n",
        "  print(f'tn:{tn}, fp:{fp}, fn:{fn}, tp:{tp}')\n",
        "\n",
        "  return eval_loss\n",
        "    \n"
      ],
      "execution_count": 0,
      "outputs": []
    },
    {
      "cell_type": "code",
      "metadata": {
        "id": "NioyGPcGZwjD",
        "colab_type": "code",
        "colab": {}
      },
      "source": [
        "def dataset_details(df):\n",
        "  print(\"Dataset preview\")\n",
        "  print(df.head(5))\n",
        "  print(\"label count:\")\n",
        "  print(df.groupby([0]).count())\n"
      ],
      "execution_count": 0,
      "outputs": []
    },
    {
      "cell_type": "code",
      "metadata": {
        "id": "J-C-WbenuWI6",
        "colab_type": "code",
        "colab": {}
      },
      "source": [
        "def run():\n",
        "  MAX_SEQ_LENGTH = 128\n",
        "  TRAIN_BATCH_SIZE = 32\n",
        "  EVAL_BATCH_SIZE = 32\n",
        "  LEARNING_RATE = 1e-5\n",
        "  NUM_TRAIN_EPOCHS = 1\n",
        "  NUM_LABELS = 2\n",
        "  BERT_TYPE = \"bert-base-uncased\"\n",
        "  max_grad_norm = 1.0\n",
        "\n",
        "  train_df = pd.read_csv('train.csv', header=None)\n",
        "  test_df = pd.read_csv('test.csv', header=None)\n",
        "  train_df[0] = (train_df[0] == 2).astype(int)\n",
        "  test_df[0] = (test_df[0] == 2).astype(int)\n",
        "\n",
        "  dataset_details(train_df)\n",
        "  dataset_details(test_df)\n",
        "\n",
        "  tokenizer = transformers.BertTokenizer.from_pretrained(BERT_TYPE)\n",
        "  train_dataset = BertDatasetModule(\n",
        "      tokenizer = tokenizer,\n",
        "      input_sent = train_df[1],\n",
        "      max_length = MAX_SEQ_LENGTH,\n",
        "      target = train_df[0]\n",
        "  )\n",
        "\n",
        "  train_dataloader = DataLoader(train_dataset, batch_size = TRAIN_BATCH_SIZE, shuffle=True)\n",
        "\n",
        "  eval_dataset = BertDatasetModule(\n",
        "      tokenizer = tokenizer,\n",
        "      input_sent = test_df[1],\n",
        "      max_length = MAX_SEQ_LENGTH,\n",
        "      target = test_df[0]\n",
        "  ) \n",
        "\n",
        "  eval_dataloader = DataLoader(eval_dataset, batch_size = EVAL_BATCH_SIZE, shuffle=False)\n",
        "\n",
        "  device = torch.device(\"cuda\" if torch.cuda.is_available() else \"cpu\")\n",
        "\n",
        "  model = BERTBASECLASSIFIER(BERT_TYPE, NUM_LABELS).to(device)\n",
        "\n",
        "  optimizer = AdamW(model.parameters(), lr=LEARNING_RATE, correct_bias=False)\n",
        "\n",
        "  NUM_TRAIN_STEPS = int(len(train_dataset)/TRAIN_BATCH_SIZE * NUM_TRAIN_EPOCHS) \n",
        "  scheduler = transformers.get_constant_schedule_with_warmup(\n",
        "                  optimizer, \n",
        "                  num_warmup_steps=100,\n",
        "                  # num_training_steps=NUM_TRAIN_STEPS,\n",
        "                  last_epoch=-1)\n",
        "  \n",
        "  for epoch in trange(NUM_TRAIN_EPOCHS):\n",
        "    train_loop(train_dataloader, model, optimizer, device, max_grad_norm, scheduler)\n",
        "  \n",
        "  res = eval_loop(eval_dataloader, model, device)\n",
        "  print(res)\n",
        "  \n"
      ],
      "execution_count": 0,
      "outputs": []
    },
    {
      "cell_type": "code",
      "metadata": {
        "id": "TUIgLbj79JQ1",
        "colab_type": "code",
        "outputId": "30008d90-713e-43d7-8cf3-18777ae16c6e",
        "colab": {
          "base_uri": "https://localhost:8080/",
          "height": 1000,
          "referenced_widgets": [
            "aa3fca5b99634f1dba5809cc5b7f957e",
            "dab7e2d5534641bc925f211fbca98313",
            "68f54bcb0b6c4146afa826ba866ab1cf",
            "c845a5006f154e8fb0d34c63c0dc9a50",
            "9897b1fc0c584d4a93d40aedbf307489",
            "a098064d5f274056bd172f1b7051b66d",
            "f37886a0249143d4a9cf5574dad827b7",
            "3ebe4d39f0f2424092f7e0787568397d",
            "0cc4789271094b34a41515dc114ba383",
            "328ca50e8fe84ab38bc88c965e715117",
            "5bdc609d70ee4caa9ebe66ce9afda58a",
            "34860d2854fb4302b2245f04bd8b2daf",
            "1684cd65724a40e89a580f104389ef7e",
            "4b42b469aeea4907afa7e33a80886ff4",
            "83823d0d05754b35b663c23a7c393d1e",
            "d70fecea973e4f93bb65f76d01d7615c",
            "b7973079a7dd4789972825c3f009493c",
            "b42dda8bf600402a9afcbf3b471d31fb",
            "c43b2865aa934b33a86856f8102852ed",
            "c526b62323b54075ae89754c176fcd03",
            "5c913d62274144518e39a4a50ec25deb",
            "f1c65030a6e849ac955193e0599427c0",
            "37e079e58a7b49fbb2c1a0ec41311072",
            "b44b0ac8e95d47e7b48f5ac50a746034"
          ]
        }
      },
      "source": [
        "if __name__ == '__main__':\n",
        "  run()"
      ],
      "execution_count": 13,
      "outputs": [
        {
          "output_type": "stream",
          "text": [
            "   0                                                  1\n",
            "0  0  Unfortunately, the frustration of being Dr. Go...\n",
            "1  1  Been going to Dr. Goldberg for over 10 years. ...\n",
            "2  0  I don't know what Dr. Goldberg was like before...\n",
            "3  0  I'm writing this review to give you a heads up...\n",
            "4  1  All the food is great here. But the best thing...\n",
            "total rows:\n",
            "0    50001\n",
            "1    50001\n",
            "dtype: int64\n",
            "label count:\n",
            "       1\n",
            "0       \n",
            "0  26832\n",
            "1  23169\n",
            "   0                                                  1\n",
            "0  1  Contrary to other reviews, I have zero complai...\n",
            "1  0  Last summer I had an appointment to get new ti...\n",
            "2  1  Friendly staff, same starbucks fair you get an...\n",
            "3  0  The food is good. Unfortunately the service is...\n",
            "4  1  Even when we didn't have a car Filene's Baseme...\n",
            "total rows:\n",
            "0    38000\n",
            "1    38000\n",
            "dtype: int64\n",
            "label count:\n",
            "       1\n",
            "0       \n",
            "0  19000\n",
            "1  19000\n"
          ],
          "name": "stdout"
        },
        {
          "output_type": "display_data",
          "data": {
            "application/vnd.jupyter.widget-view+json": {
              "model_id": "aa3fca5b99634f1dba5809cc5b7f957e",
              "version_minor": 0,
              "version_major": 2
            },
            "text/plain": [
              "HBox(children=(IntProgress(value=0, description='Downloading', max=361, style=ProgressStyle(description_width=…"
            ]
          },
          "metadata": {
            "tags": []
          }
        },
        {
          "output_type": "stream",
          "text": [
            "\n"
          ],
          "name": "stdout"
        },
        {
          "output_type": "display_data",
          "data": {
            "application/vnd.jupyter.widget-view+json": {
              "model_id": "0cc4789271094b34a41515dc114ba383",
              "version_minor": 0,
              "version_major": 2
            },
            "text/plain": [
              "HBox(children=(IntProgress(value=0, description='Downloading', max=440473133, style=ProgressStyle(description_…"
            ]
          },
          "metadata": {
            "tags": []
          }
        },
        {
          "output_type": "stream",
          "text": [
            "\n"
          ],
          "name": "stdout"
        },
        {
          "output_type": "stream",
          "text": [
            "\r  0%|          | 0/1 [00:00<?, ?it/s]"
          ],
          "name": "stderr"
        },
        {
          "output_type": "display_data",
          "data": {
            "application/vnd.jupyter.widget-view+json": {
              "model_id": "b7973079a7dd4789972825c3f009493c",
              "version_minor": 0,
              "version_major": 2
            },
            "text/plain": [
              "HBox(children=(IntProgress(value=0, description='Iteration', max=1563, style=ProgressStyle(description_width='…"
            ]
          },
          "metadata": {
            "tags": []
          }
        },
        {
          "output_type": "stream",
          "text": [
            "bi: 0, loss: 0.7565804719924927\n",
            "bi: 100, loss: 0.27455559372901917\n",
            "bi: 200, loss: 0.2796914577484131\n",
            "bi: 300, loss: 0.2654933035373688\n",
            "bi: 400, loss: 0.1789671927690506\n",
            "bi: 500, loss: 0.3040599822998047\n",
            "bi: 600, loss: 0.26138177514076233\n",
            "bi: 700, loss: 0.22351501882076263\n",
            "bi: 800, loss: 0.08943471312522888\n",
            "bi: 900, loss: 0.06939338892698288\n",
            "bi: 1000, loss: 0.05412149801850319\n",
            "bi: 1100, loss: 0.08004928380250931\n",
            "bi: 1200, loss: 0.19310957193374634\n",
            "bi: 1300, loss: 0.12269952893257141\n",
            "bi: 1400, loss: 0.10538876056671143\n",
            "bi: 1500, loss: 0.09364955127239227\n"
          ],
          "name": "stdout"
        },
        {
          "output_type": "stream",
          "text": [
            "\r100%|██████████| 1/1 [24:56<00:00, 1496.55s/it]"
          ],
          "name": "stderr"
        },
        {
          "output_type": "stream",
          "text": [
            "\n"
          ],
          "name": "stdout"
        },
        {
          "output_type": "stream",
          "text": [
            "\n"
          ],
          "name": "stderr"
        },
        {
          "output_type": "stream",
          "text": [
            "Confusion Matrix:\n",
            "[[17984  1016]\n",
            " [ 1335 17665]]\n",
            "tn:17984, fp:1016, fn:1335, tp:17665\n",
            "0.15527574553370777\n"
          ],
          "name": "stdout"
        }
      ]
    },
    {
      "cell_type": "code",
      "metadata": {
        "id": "EzPOTb9d0AEk",
        "colab_type": "code",
        "colab": {}
      },
      "source": [
        ""
      ],
      "execution_count": 0,
      "outputs": []
    }
  ]
}